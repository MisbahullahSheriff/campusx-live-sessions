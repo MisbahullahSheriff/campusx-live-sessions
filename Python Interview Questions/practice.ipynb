{
 "cells": [
  {
   "cell_type": "code",
   "execution_count": 1,
   "id": "2b94d03a-fe7d-4bfd-8287-113769bc933a",
   "metadata": {},
   "outputs": [],
   "source": [
    "import math"
   ]
  },
  {
   "cell_type": "code",
   "execution_count": 2,
   "id": "1637690f-d21d-4433-80cb-2a202c85c487",
   "metadata": {},
   "outputs": [],
   "source": [
    "INF = math.inf"
   ]
  },
  {
   "cell_type": "markdown",
   "id": "e572bd83-2b50-4d06-b078-ba7bb11ce4ca",
   "metadata": {},
   "source": [
    "### Q1"
   ]
  },
  {
   "cell_type": "code",
   "execution_count": 24,
   "id": "7555e7fa-22bd-4880-996d-c20fbb07a48d",
   "metadata": {},
   "outputs": [],
   "source": [
    "def get_gcd(a, b):\n",
    "\tif (a == 1) or (b == 1):\n",
    "\t\treturn 1\n",
    "\n",
    "\tif a == b:\n",
    "\t\treturn a\n",
    "\n",
    "\tres = min((a, b))\n",
    "\twhile res >= 1:\n",
    "\t\tif (a % res == 0) and (b % res == 0):\n",
    "\t\t\treturn res\n",
    "\t\tres -= 1"
   ]
  },
  {
   "cell_type": "code",
   "execution_count": 25,
   "id": "6d72ea2d-8d51-4859-81d1-4691febec93e",
   "metadata": {},
   "outputs": [
    {
     "data": {
      "text/plain": [
       "1"
      ]
     },
     "execution_count": 25,
     "metadata": {},
     "output_type": "execute_result"
    }
   ],
   "source": [
    "get_gcd(1, 4)"
   ]
  },
  {
   "cell_type": "code",
   "execution_count": 26,
   "id": "5dfe8cc5-5483-4691-a9e2-526c08c81619",
   "metadata": {},
   "outputs": [
    {
     "data": {
      "text/plain": [
       "100"
      ]
     },
     "execution_count": 26,
     "metadata": {},
     "output_type": "execute_result"
    }
   ],
   "source": [
    "get_gcd(100, 100)"
   ]
  },
  {
   "cell_type": "code",
   "execution_count": 27,
   "id": "d9d5467e-4f8a-4f17-afc3-eb0800767774",
   "metadata": {},
   "outputs": [
    {
     "data": {
      "text/plain": [
       "1"
      ]
     },
     "execution_count": 27,
     "metadata": {},
     "output_type": "execute_result"
    }
   ],
   "source": [
    "get_gcd(5, 1)"
   ]
  },
  {
   "cell_type": "code",
   "execution_count": 28,
   "id": "8286c11b-7491-4dd4-b3bb-3156eab55d88",
   "metadata": {},
   "outputs": [
    {
     "data": {
      "text/plain": [
       "2"
      ]
     },
     "execution_count": 28,
     "metadata": {},
     "output_type": "execute_result"
    }
   ],
   "source": [
    "get_gcd(8, 6)"
   ]
  },
  {
   "cell_type": "code",
   "execution_count": 29,
   "id": "2a7c64da-d342-48f0-a52a-4ca1e04ca194",
   "metadata": {},
   "outputs": [
    {
     "data": {
      "text/plain": [
       "3"
      ]
     },
     "execution_count": 29,
     "metadata": {},
     "output_type": "execute_result"
    }
   ],
   "source": [
    "get_gcd(3, 24)"
   ]
  },
  {
   "cell_type": "code",
   "execution_count": 30,
   "id": "b7224e1e-2e1a-4558-9944-428f8b34f337",
   "metadata": {},
   "outputs": [
    {
     "data": {
      "text/plain": [
       "1"
      ]
     },
     "execution_count": 30,
     "metadata": {},
     "output_type": "execute_result"
    }
   ],
   "source": [
    "get_gcd(3, 7)"
   ]
  },
  {
   "cell_type": "code",
   "execution_count": 31,
   "id": "b0f761bb-7b68-420a-9306-fa019ce11565",
   "metadata": {},
   "outputs": [
    {
     "data": {
      "text/plain": [
       "1"
      ]
     },
     "execution_count": 31,
     "metadata": {},
     "output_type": "execute_result"
    }
   ],
   "source": [
    "get_gcd(7, 27)"
   ]
  },
  {
   "cell_type": "code",
   "execution_count": 38,
   "id": "18718df8-2612-4293-ba42-73ce249d424f",
   "metadata": {},
   "outputs": [],
   "source": [
    "def get_gcd_2(a, b):\n",
    "\tif (a == 1) or (b == 1):\n",
    "\t\treturn 1\n",
    "\n",
    "\tif a == b:\n",
    "\t\treturn a\n",
    "\n",
    "\tif b == 0:\n",
    "\t\treturn a\n",
    "\n",
    "\tx = max((a, b))\n",
    "\ty = min((a, b))\n",
    "\treturn get_gcd_2(y, x % y)"
   ]
  },
  {
   "cell_type": "code",
   "execution_count": 39,
   "id": "7f438c56-ea96-4ffd-8ef5-db335f8f20f1",
   "metadata": {},
   "outputs": [
    {
     "data": {
      "text/plain": [
       "1"
      ]
     },
     "execution_count": 39,
     "metadata": {},
     "output_type": "execute_result"
    }
   ],
   "source": [
    "get_gcd_2(3, 5)"
   ]
  },
  {
   "cell_type": "code",
   "execution_count": 40,
   "id": "7b908fdb-b8d4-4950-834e-3575bee62ac9",
   "metadata": {},
   "outputs": [
    {
     "data": {
      "text/plain": [
       "4"
      ]
     },
     "execution_count": 40,
     "metadata": {},
     "output_type": "execute_result"
    }
   ],
   "source": [
    "get_gcd_2(4, 4)"
   ]
  },
  {
   "cell_type": "code",
   "execution_count": 41,
   "id": "dfd91a12-9bf4-4756-9893-25c9140001d5",
   "metadata": {},
   "outputs": [
    {
     "data": {
      "text/plain": [
       "2"
      ]
     },
     "execution_count": 41,
     "metadata": {},
     "output_type": "execute_result"
    }
   ],
   "source": [
    "get_gcd_2(8, 38)"
   ]
  },
  {
   "cell_type": "code",
   "execution_count": 43,
   "id": "fe1d43f8-5790-4d59-b2f4-f5eec28f8120",
   "metadata": {},
   "outputs": [
    {
     "data": {
      "text/plain": [
       "1"
      ]
     },
     "execution_count": 43,
     "metadata": {},
     "output_type": "execute_result"
    }
   ],
   "source": [
    "get_gcd_2(7, 23)"
   ]
  },
  {
   "cell_type": "markdown",
   "id": "95d3b086-da72-4ae6-a8bb-452329cb4d55",
   "metadata": {},
   "source": [
    "### Q2"
   ]
  },
  {
   "cell_type": "code",
   "execution_count": 58,
   "id": "273b7ad4-4d19-49e6-a87b-a5c97a950fc8",
   "metadata": {},
   "outputs": [],
   "source": [
    "def get_second_largest(seq):\n",
    "\tunique_elements = set(seq)\n",
    "\tif len(unique_elements) <= 2:\n",
    "\t\treturn min(unique_elements)\n",
    "\treturn sorted(seq)[-2]"
   ]
  },
  {
   "cell_type": "code",
   "execution_count": 59,
   "id": "26e481bd-efd3-425c-bb55-e68eaed587a9",
   "metadata": {},
   "outputs": [
    {
     "data": {
      "text/plain": [
       "5"
      ]
     },
     "execution_count": 59,
     "metadata": {},
     "output_type": "execute_result"
    }
   ],
   "source": [
    "get_second_largest([1, 5, 3, 8, 2])"
   ]
  },
  {
   "cell_type": "code",
   "execution_count": 60,
   "id": "e9fb90c8-52fb-4bee-818c-c69a42e23cad",
   "metadata": {},
   "outputs": [
    {
     "data": {
      "text/plain": [
       "3"
      ]
     },
     "execution_count": 60,
     "metadata": {},
     "output_type": "execute_result"
    }
   ],
   "source": [
    "get_second_largest([3, 3, 3])"
   ]
  },
  {
   "cell_type": "code",
   "execution_count": 61,
   "id": "1010f570-87df-4329-86a5-c5145fc26bb3",
   "metadata": {},
   "outputs": [
    {
     "data": {
      "text/plain": [
       "2"
      ]
     },
     "execution_count": 61,
     "metadata": {},
     "output_type": "execute_result"
    }
   ],
   "source": [
    "get_second_largest([4, 4, 2, 4, 2])"
   ]
  },
  {
   "cell_type": "code",
   "execution_count": 62,
   "id": "3265489b-9458-4e34-9a45-780d2d80f927",
   "metadata": {},
   "outputs": [
    {
     "data": {
      "text/plain": [
       "4"
      ]
     },
     "execution_count": 62,
     "metadata": {},
     "output_type": "execute_result"
    }
   ],
   "source": [
    "get_second_largest((2, 3, 5, 4, 3, 2, 1, 4, 2))"
   ]
  },
  {
   "cell_type": "markdown",
   "id": "ba1c5818-d281-4696-a3b8-c1fa1941d03e",
   "metadata": {},
   "source": [
    "### Q3"
   ]
  },
  {
   "cell_type": "code",
   "execution_count": 102,
   "id": "96329f65-d95f-4c56-ae08-f1986ecc3f21",
   "metadata": {},
   "outputs": [],
   "source": [
    "def generate_fibonacci(n):\n",
    "\ta, b = 0, 1\n",
    "\tprint(a)\n",
    "\tprint(b)\n",
    "\n",
    "\tfor _ in range(2, n):\n",
    "\t\ta, b = (b, a + b)\n",
    "\t\tprint(b)"
   ]
  },
  {
   "cell_type": "code",
   "execution_count": 105,
   "id": "43807694-ce6f-40d3-87fb-d9965fa075a4",
   "metadata": {},
   "outputs": [
    {
     "name": "stdout",
     "output_type": "stream",
     "text": [
      "0\n",
      "1\n",
      "1\n",
      "2\n",
      "3\n",
      "5\n",
      "8\n",
      "13\n",
      "21\n",
      "34\n"
     ]
    }
   ],
   "source": [
    "generate_fibonacci(10)"
   ]
  },
  {
   "cell_type": "code",
   "execution_count": 106,
   "id": "cdfbf154-b599-448d-9734-b10517b1cbfe",
   "metadata": {},
   "outputs": [],
   "source": [
    "def generate_fibonacci():\n",
    "\ta, b = 0, 1\n",
    "\n",
    "\twhile True:\n",
    "\t\tyield a\n",
    "\t\ta, b = (b, a + b)"
   ]
  },
  {
   "cell_type": "code",
   "execution_count": 107,
   "id": "bd17e55f-efdf-4b73-b8cd-233ac13c2227",
   "metadata": {},
   "outputs": [],
   "source": [
    "fib = generate_fibonacci()"
   ]
  },
  {
   "cell_type": "code",
   "execution_count": 113,
   "id": "687cec45-0ad5-4557-a6d4-455034d22c3d",
   "metadata": {},
   "outputs": [
    {
     "data": {
      "text/plain": [
       "5"
      ]
     },
     "execution_count": 113,
     "metadata": {},
     "output_type": "execute_result"
    }
   ],
   "source": [
    "next(fib)"
   ]
  },
  {
   "cell_type": "markdown",
   "id": "92a82a1c-4f15-40bf-8d5e-9740f69ddba1",
   "metadata": {},
   "source": [
    "### Q4"
   ]
  },
  {
   "cell_type": "code",
   "execution_count": 3,
   "id": "3aec01b3-0d58-4c86-aac2-c3e87eb9f6e4",
   "metadata": {},
   "outputs": [],
   "source": [
    "def get_pairs(seq, target):\n",
    "\tsize = len(seq)\n",
    "\tfor i in range(size - 1):\n",
    "\t\tfor j in range(i + 1, size):\n",
    "\t\t\tif seq[i] + seq[j] == target:\n",
    "\t\t\t\tprint((seq[i], seq[j]))"
   ]
  },
  {
   "cell_type": "code",
   "execution_count": 4,
   "id": "0e54fe78-ff2c-4b07-8b9e-4ebd6299bf8a",
   "metadata": {},
   "outputs": [
    {
     "name": "stdout",
     "output_type": "stream",
     "text": [
      "(8, 2)\n",
      "(7, 3)\n"
     ]
    }
   ],
   "source": [
    "get_pairs([8, 7, 2, 5, 3, 1], 10)"
   ]
  },
  {
   "cell_type": "markdown",
   "id": "32734eb9-84dd-4d78-a97a-281cedc2579c",
   "metadata": {},
   "source": [
    "### Q5"
   ]
  },
  {
   "cell_type": "code",
   "execution_count": 12,
   "id": "d50d4e10-0e2d-4ccf-a017-a7ed41110a19",
   "metadata": {},
   "outputs": [],
   "source": [
    "def get_max_char(string):\n",
    "\tchar_counts = dict()\n",
    "\tfor ch in string:\n",
    "\t\tchar_counts[ch] = char_counts.get(ch, 0) + 1\n",
    "\t\t\n",
    "\tmax_char = max(char_counts, key=char_counts.get)\n",
    "\treturn max_char"
   ]
  },
  {
   "cell_type": "code",
   "execution_count": 13,
   "id": "98d75101-8943-45eb-809d-841e88b43f6f",
   "metadata": {},
   "outputs": [
    {
     "data": {
      "text/plain": [
       "'n'"
      ]
     },
     "execution_count": 13,
     "metadata": {},
     "output_type": "execute_result"
    }
   ],
   "source": [
    "get_max_char(\"itininiytnnhnn\")"
   ]
  },
  {
   "cell_type": "markdown",
   "id": "b353f9d2-059d-4dbc-a7c7-985efc59e21c",
   "metadata": {},
   "source": [
    "### Q6"
   ]
  },
  {
   "cell_type": "code",
   "execution_count": 14,
   "id": "18a94b9e-407c-4d3a-89c4-e0152e02a55e",
   "metadata": {},
   "outputs": [],
   "source": [
    "def get_armstrong_range(start, end):\n",
    "\tfor num in range(start, end + 1):\n",
    "\t\tsum = 0\n",
    "\t\ttemp = num\n",
    "\t\twhile temp > 0:\n",
    "\t\t\tdigit = temp % 10\n",
    "\t\t\tsum += (digit ** 3)\n",
    "\t\t\ttemp = temp // 10\n",
    "\t\tif sum == num:\n",
    "\t\t\tprint(num)"
   ]
  },
  {
   "cell_type": "code",
   "execution_count": 15,
   "id": "87f142b1-1580-4dc9-9dee-ef35099fbd53",
   "metadata": {},
   "outputs": [
    {
     "name": "stdout",
     "output_type": "stream",
     "text": [
      "1\n",
      "153\n",
      "370\n",
      "371\n",
      "407\n"
     ]
    }
   ],
   "source": [
    "get_armstrong_range(1, 500)"
   ]
  },
  {
   "cell_type": "markdown",
   "id": "bbf35a10-1cc2-454a-9208-0abe107ccc87",
   "metadata": {},
   "source": [
    "### Q7"
   ]
  },
  {
   "cell_type": "code",
   "execution_count": 37,
   "id": "9d887289-765c-47b2-bc05-e45229540534",
   "metadata": {},
   "outputs": [],
   "source": [
    "def compress_string(string):\n",
    "\tres = \"\"\n",
    "\tcounter = 1\n",
    "\tlength = len(string)\n",
    "\tfor i in range(1, length):\n",
    "\t\tif string[i] == string[i - 1]:\n",
    "\t\t\tcounter += 1\n",
    "\t\telse:\n",
    "\t\t\tres += f\"{string[i - 1]}{counter}\"\n",
    "\t\t\tcounter = 1\n",
    "\tres += f\"{string[-1]}{counter}\"\n",
    "\treturn res"
   ]
  },
  {
   "cell_type": "code",
   "execution_count": 38,
   "id": "04e429c3-a4cf-4b46-a6b2-b2cd68f3d47b",
   "metadata": {},
   "outputs": [
    {
     "data": {
      "text/plain": [
       "'a1b2a2c3d2'"
      ]
     },
     "execution_count": 38,
     "metadata": {},
     "output_type": "execute_result"
    }
   ],
   "source": [
    "compress_string(\"abbaacccdd\")"
   ]
  },
  {
   "cell_type": "markdown",
   "id": "077f55dc-4599-489b-9b3b-3ba57174a0cd",
   "metadata": {},
   "source": [
    "### Q8"
   ]
  },
  {
   "cell_type": "code",
   "execution_count": 22,
   "id": "b262dfb0-61b5-4f05-b803-9ba018cb9c87",
   "metadata": {},
   "outputs": [],
   "source": [
    "def length_of_longest_substring_without_repeating_characters(s):\n",
    "\tlast_seen = dict()\n",
    "\tmax_length = 0\n",
    "\twindow_start = 0\n",
    "\n",
    "\tfor window_end, ch in enumerate(s):\n",
    "\t\tif (ch in last_seen) and (last_seen[ch] >= window_start):\n",
    "\t\t\twindow_start = last_seen[ch] + 1\n",
    "\n",
    "\t\tlast_seen[ch] = window_end\n",
    "\t\tmax_length = max(max_length, window_end - window_start + 1)\n",
    "\n",
    "\treturn max_length"
   ]
  },
  {
   "cell_type": "code",
   "execution_count": 23,
   "id": "9662d3a0-3d2b-469e-b1d7-d4711ea955f9",
   "metadata": {},
   "outputs": [
    {
     "data": {
      "text/plain": [
       "3"
      ]
     },
     "execution_count": 23,
     "metadata": {},
     "output_type": "execute_result"
    }
   ],
   "source": [
    "length_of_longest_substring_without_repeating_characters(\"abcabcbb\")"
   ]
  }
 ],
 "metadata": {
  "kernelspec": {
   "display_name": "demo",
   "language": "python",
   "name": "demo"
  },
  "language_info": {
   "codemirror_mode": {
    "name": "ipython",
    "version": 3
   },
   "file_extension": ".py",
   "mimetype": "text/x-python",
   "name": "python",
   "nbconvert_exporter": "python",
   "pygments_lexer": "ipython3",
   "version": "3.11.1"
  }
 },
 "nbformat": 4,
 "nbformat_minor": 5
}
