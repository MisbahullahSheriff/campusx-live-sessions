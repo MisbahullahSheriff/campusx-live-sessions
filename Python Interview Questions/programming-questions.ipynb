{
 "cells": [
  {
   "cell_type": "code",
   "execution_count": 1,
   "id": "0826ad19-6790-48b2-9a11-1ed6e34e2da0",
   "metadata": {},
   "outputs": [],
   "source": [
    "import math"
   ]
  },
  {
   "cell_type": "code",
   "execution_count": 2,
   "id": "5a747c57-3fc5-4e00-9bb0-2632dc6aff62",
   "metadata": {},
   "outputs": [],
   "source": [
    "INF = math.inf"
   ]
  },
  {
   "cell_type": "markdown",
   "id": "08b727f5-dc38-4c08-99b3-2a5226b807be",
   "metadata": {},
   "source": [
    "# Coding Questions"
   ]
  },
  {
   "cell_type": "markdown",
   "id": "09bdd935-b83c-42ab-81b2-a4da97010607",
   "metadata": {},
   "source": [
    "### Q1. Return the Greatest Common Divisor (GCD) of two numbers\n",
    "\n",
    "- Assume positive inputs, i.e., `a > 0` and `b > 0`"
   ]
  },
  {
   "cell_type": "code",
   "execution_count": 3,
   "id": "82000ea0-8d34-43fc-bb01-5eaa46b4bb8a",
   "metadata": {},
   "outputs": [],
   "source": [
    "def get_gcd(a, b):\n",
    "\tif (a == 1) or (b == 1):\n",
    "\t\treturn 1\n",
    "\n",
    "\tif (a == b):\n",
    "\t\treturn a\n",
    "\n",
    "\tresult = min((a, b))\n",
    "\twhile result >= 1:\n",
    "\t\tif (a % result == 0) and (b % result == 0):\n",
    "\t\t\treturn result\n",
    "\t\tresult -= 1"
   ]
  },
  {
   "cell_type": "code",
   "execution_count": 4,
   "id": "6cab7f0a-0dc8-473b-8d92-c11aa7df984d",
   "metadata": {},
   "outputs": [],
   "source": [
    "def get_gcd_2(a, b):\n",
    "\t# recursive (reduction property)\n",
    "\tif (a == 1) or (b == 1):\n",
    "\t\treturn 1\n",
    "\n",
    "\tif (a == b):\n",
    "\t\treturn a\n",
    "\n",
    "\tif b == 0:\n",
    "\t\treturn a\n",
    "\n",
    "\tx = max((a, b))\n",
    "\ty = min((a, b))\n",
    "\treturn get_gcd_2(y, x % y)"
   ]
  },
  {
   "cell_type": "code",
   "execution_count": 5,
   "id": "274bba11-c36f-4e57-a14b-90a03d0e6f1f",
   "metadata": {},
   "outputs": [
    {
     "data": {
      "text/plain": [
       "2"
      ]
     },
     "execution_count": 5,
     "metadata": {},
     "output_type": "execute_result"
    }
   ],
   "source": [
    "get_gcd(4, 6)"
   ]
  },
  {
   "cell_type": "code",
   "execution_count": 6,
   "id": "07af03e3-5ed6-4652-ab52-ac002df957c9",
   "metadata": {},
   "outputs": [
    {
     "data": {
      "text/plain": [
       "2"
      ]
     },
     "execution_count": 6,
     "metadata": {},
     "output_type": "execute_result"
    }
   ],
   "source": [
    "get_gcd_2(4, 6)"
   ]
  },
  {
   "cell_type": "markdown",
   "id": "af215eed-02f0-415a-8558-804c8a049967",
   "metadata": {},
   "source": [
    "### Q2. Find the second largest number in a sequence\n",
    "\n",
    "- Sequence will have atleast 2 elements\n",
    "- Sequence can have duplicate elements\n",
    "- If all elements are same, the second largest number is same as largest number"
   ]
  },
  {
   "cell_type": "code",
   "execution_count": 7,
   "id": "70d08822-57b2-4a97-b2c9-b38dc6745343",
   "metadata": {},
   "outputs": [],
   "source": [
    "def get_second_largest(seq):\n",
    "\tunique_elements = set(seq)\n",
    "\tif len(unique_elements) <= 2:\n",
    "\t\treturn min(unique_elements)\n",
    "\treturn sorted(unique_elements)[-2]"
   ]
  },
  {
   "cell_type": "code",
   "execution_count": 8,
   "id": "f04e4bf1-35c2-4029-b06d-e64b51f63608",
   "metadata": {},
   "outputs": [],
   "source": [
    "def get_second_largest_2(seq):\n",
    "\tunique_elements = set(seq)\n",
    "\tif len(unique_elements) <= 2:\n",
    "\t\treturn min(unique_elements)\n",
    "\n",
    "\tlargest = -INF\n",
    "\tsecond_largest = -INF\n",
    "\tfor num in unique_elements:\n",
    "\t\tif num > largest:\n",
    "\t\t\tsecond_largest = largest\n",
    "\t\t\tlargest = num\n",
    "\t\telif num > second_largest:\n",
    "\t\t\tsecond_largest = num\n",
    "\treturn second_largest"
   ]
  },
  {
   "cell_type": "code",
   "execution_count": 9,
   "id": "6fe932cb-b259-4a6f-95c9-e5fcb89c2e2e",
   "metadata": {},
   "outputs": [
    {
     "data": {
      "text/plain": [
       "4"
      ]
     },
     "execution_count": 9,
     "metadata": {},
     "output_type": "execute_result"
    }
   ],
   "source": [
    " get_second_largest([1, 2, 3, 1, 5, 4, 5, 2])"
   ]
  },
  {
   "cell_type": "code",
   "execution_count": 10,
   "id": "c3608f12-d183-42f0-9044-4b4f6d74ae57",
   "metadata": {},
   "outputs": [
    {
     "data": {
      "text/plain": [
       "5"
      ]
     },
     "execution_count": 10,
     "metadata": {},
     "output_type": "execute_result"
    }
   ],
   "source": [
    "get_second_largest([5, 5, 5])"
   ]
  },
  {
   "cell_type": "code",
   "execution_count": 11,
   "id": "84928a12-4d60-433e-a272-3a61d171d905",
   "metadata": {},
   "outputs": [
    {
     "data": {
      "text/plain": [
       "3"
      ]
     },
     "execution_count": 11,
     "metadata": {},
     "output_type": "execute_result"
    }
   ],
   "source": [
    "get_second_largest([3, 4, 4, 3, 4])"
   ]
  },
  {
   "cell_type": "code",
   "execution_count": 12,
   "id": "c50a7a0c-0abf-4bd2-8619-37ea86e538ff",
   "metadata": {},
   "outputs": [
    {
     "data": {
      "text/plain": [
       "4"
      ]
     },
     "execution_count": 12,
     "metadata": {},
     "output_type": "execute_result"
    }
   ],
   "source": [
    "get_second_largest_2([1, 2, 3, 1, 5, 4, 5, 2])"
   ]
  },
  {
   "cell_type": "markdown",
   "id": "1a19f459-fef0-4526-8aa1-7e99de104535",
   "metadata": {},
   "source": [
    "### Q3. Generate an infinite Fibonacci Series using a Generator"
   ]
  },
  {
   "cell_type": "code",
   "execution_count": 13,
   "id": "7b74b98a-7eb8-4577-88a8-63116e51ab77",
   "metadata": {},
   "outputs": [],
   "source": [
    "def generate_fibonacci(n):\n",
    "\t# traditional\n",
    "\ta, b = 0, 1\n",
    "\tprint(a)\n",
    "\tprint(b)\n",
    "\n",
    "\tfor _ in range(2, n):\n",
    "\t\ta, b = (b, a + b)\n",
    "\t\tprint(b)"
   ]
  },
  {
   "cell_type": "code",
   "execution_count": 14,
   "id": "6c49152d-4cbf-4eab-8af5-cac77e87386d",
   "metadata": {},
   "outputs": [],
   "source": [
    "def generate_fibonacci_2():\n",
    "\ta, b = 0, 1\n",
    "\n",
    "\twhile True:\n",
    "\t\tyield a\n",
    "\t\ta, b = (b, a + b)"
   ]
  },
  {
   "cell_type": "code",
   "execution_count": 15,
   "id": "0348950b-9c28-435f-9a1b-f4fd78fd3f14",
   "metadata": {},
   "outputs": [
    {
     "name": "stdout",
     "output_type": "stream",
     "text": [
      "0\n",
      "1\n",
      "1\n",
      "2\n",
      "3\n",
      "5\n",
      "8\n",
      "13\n",
      "21\n",
      "34\n"
     ]
    }
   ],
   "source": [
    "generate_fibonacci(10)"
   ]
  },
  {
   "cell_type": "code",
   "execution_count": 16,
   "id": "a91a674b-7853-4055-94f3-4eab4f05512f",
   "metadata": {},
   "outputs": [],
   "source": [
    "inf_fib_series = generate_fibonacci_2()"
   ]
  },
  {
   "cell_type": "code",
   "execution_count": 17,
   "id": "20d17f82-81ad-471b-8f3a-7f327203fa14",
   "metadata": {},
   "outputs": [
    {
     "data": {
      "text/plain": [
       "<generator object generate_fibonacci_2 at 0x000001EBAC41B9F0>"
      ]
     },
     "execution_count": 17,
     "metadata": {},
     "output_type": "execute_result"
    }
   ],
   "source": [
    "inf_fib_series"
   ]
  },
  {
   "cell_type": "code",
   "execution_count": 18,
   "id": "9d3db384-bf05-4718-87d1-7b598b07d89c",
   "metadata": {},
   "outputs": [
    {
     "data": {
      "text/plain": [
       "0"
      ]
     },
     "execution_count": 18,
     "metadata": {},
     "output_type": "execute_result"
    }
   ],
   "source": [
    "next(inf_fib_series)"
   ]
  },
  {
   "cell_type": "markdown",
   "id": "47227f1b-2339-4cde-a80b-a890b8a8c54c",
   "metadata": {},
   "source": [
    "### Q4. Identify Pairs in a  Sequence having given Sum\n",
    "\n",
    "- `Input`: [8, 7, 2, 5, 3, 1], 10"
   ]
  },
  {
   "cell_type": "code",
   "execution_count": 19,
   "id": "43d8c31e-eb08-41ea-a7f6-2a72a32eae16",
   "metadata": {},
   "outputs": [],
   "source": [
    "def get_pairs(seq, number):\n",
    "\tlength = len(seq)\n",
    "\tfor i in range(length - 1):\n",
    "\t\tfor j in range(i + 1, length):\n",
    "\t\t\tif seq[i] + seq[j] == number:\n",
    "\t\t\t\tprint((seq[i], seq[j]))"
   ]
  },
  {
   "cell_type": "code",
   "execution_count": 20,
   "id": "d5a51a8e-c855-4b26-8d72-64a8bafc3913",
   "metadata": {},
   "outputs": [
    {
     "name": "stdout",
     "output_type": "stream",
     "text": [
      "(8, 2)\n",
      "(7, 3)\n"
     ]
    }
   ],
   "source": [
    "get_pairs([8, 7, 2, 5, 3, 1], 10)"
   ]
  },
  {
   "cell_type": "markdown",
   "id": "11974ba3-5b56-481a-9b3a-b57a015bc9e1",
   "metadata": {},
   "source": [
    "### Q5. Identify the Maximum Repeated Character in a String in O(n) time\n",
    "\n",
    "- `Input`: itininiytnnhnn"
   ]
  },
  {
   "cell_type": "code",
   "execution_count": 21,
   "id": "b4899851-2424-4979-a7dc-011b756e266f",
   "metadata": {},
   "outputs": [],
   "source": [
    "def get_max_char(string):\n",
    "\tchar_counts = dict()\n",
    "\tfor ch in string:\n",
    "\t\tchar_counts[ch] = char_counts.get(ch, 0) + 1\n",
    "\n",
    "\t# print(char_counts)\n",
    "\tresult = max(char_counts, key=char_counts.get)\n",
    "\treturn result"
   ]
  },
  {
   "cell_type": "code",
   "execution_count": 22,
   "id": "8193cebc-44c0-4798-b7d7-fe6c31a27e9e",
   "metadata": {},
   "outputs": [
    {
     "data": {
      "text/plain": [
       "'n'"
      ]
     },
     "execution_count": 22,
     "metadata": {},
     "output_type": "execute_result"
    }
   ],
   "source": [
    "get_max_char(\"itininiytnnhnn\")"
   ]
  },
  {
   "cell_type": "markdown",
   "id": "312d5c37-83e0-4e99-a16c-0285db074d3e",
   "metadata": {},
   "source": [
    "### Q6. Identify Armstrong Numbers within a given range\n",
    "\n",
    "- A number whose sum of cubes of its digits is same as the number itself, is an Armstrong number"
   ]
  },
  {
   "cell_type": "code",
   "execution_count": 23,
   "id": "15897b1d-80dd-4c92-8783-08a3655d8e83",
   "metadata": {},
   "outputs": [],
   "source": [
    "def get_armstrong_range(start, end):\n",
    "\tfor num in range(start, end + 1):\n",
    "\t\tsum = 0\n",
    "\t\ttemp = num\n",
    "\t\twhile temp > 0:\n",
    "\t\t\tdigit = temp % 10\n",
    "\t\t\tsum += (digit ** 3)\n",
    "\t\t\ttemp = temp // 10\n",
    "\t\tif num == sum:\n",
    "\t\t\tprint(num)"
   ]
  },
  {
   "cell_type": "code",
   "execution_count": 24,
   "id": "586b02da-e691-4093-a41d-82ac5b239dab",
   "metadata": {},
   "outputs": [
    {
     "name": "stdout",
     "output_type": "stream",
     "text": [
      "1\n",
      "153\n",
      "370\n",
      "371\n",
      "407\n"
     ]
    }
   ],
   "source": [
    "get_armstrong_range(1, 500)"
   ]
  },
  {
   "cell_type": "markdown",
   "id": "8cd83ea3-3823-44fa-a347-dcf8a5cbd26f",
   "metadata": {},
   "source": [
    "### Q7. Compress a String as following:\n",
    "\n",
    "- Input: `aaabbccc` - Output: `a3b2c3`\n",
    "- Input: `abbaacccd` - Output: `a1b2a2c3d1`"
   ]
  },
  {
   "cell_type": "code",
   "execution_count": 25,
   "id": "54ea916e-ad31-4eb6-a0a2-7c34ba44faf9",
   "metadata": {},
   "outputs": [],
   "source": [
    "def compress_string(string):\n",
    "\tresult = \"\"\n",
    "\tcount = 1\n",
    "\tlength = len(string)\n",
    "\tfor i in range(1, length):\n",
    "\t\tif string[i] == string[i - 1]:\n",
    "\t\t\tcount += 1\n",
    "\t\telse:\n",
    "\t\t\tresult += f\"{string[i - 1]}{count}\"\n",
    "\t\t\tcount = 1\n",
    "\tresult += f\"{string[-1]}{count}\"\n",
    "\treturn result"
   ]
  },
  {
   "cell_type": "code",
   "execution_count": 26,
   "id": "b37d5396-758c-4167-918c-4694684363f3",
   "metadata": {},
   "outputs": [
    {
     "data": {
      "text/plain": [
       "'a1b2a2c3d1'"
      ]
     },
     "execution_count": 26,
     "metadata": {},
     "output_type": "execute_result"
    }
   ],
   "source": [
    "compress_string(\"abbaacccd\")"
   ]
  },
  {
   "cell_type": "markdown",
   "id": "aff0d638-d9b0-4119-81d3-ae4445431254",
   "metadata": {},
   "source": [
    "### Q8. Length of the Longest Substring Without Repeating Characters\n",
    "\n",
    "- Input: `abcabcbb` - Output: `3`"
   ]
  },
  {
   "cell_type": "code",
   "execution_count": 27,
   "id": "bd1a8836-608b-41ae-9e92-8004a77bd241",
   "metadata": {},
   "outputs": [],
   "source": [
    "def max_length(string):\n",
    "\tlast_seen = dict()\n",
    "\tstart = 0\n",
    "\tresult = 0\n",
    "\n",
    "\tfor end, ch in enumerate(string):\n",
    "\t\tif (ch in last_seen) and (last_seen[ch] >= start):\n",
    "\t\t\tstart = last_seen[ch] + 1\n",
    "\t\tlast_seen[ch] = end\n",
    "\t\tresult = max(result, end - start + 1)\n",
    "\t\t\n",
    "\treturn result"
   ]
  },
  {
   "cell_type": "code",
   "execution_count": 28,
   "id": "bb703550-0a44-4145-a59e-e46089646062",
   "metadata": {},
   "outputs": [
    {
     "data": {
      "text/plain": [
       "12"
      ]
     },
     "execution_count": 28,
     "metadata": {},
     "output_type": "execute_result"
    }
   ],
   "source": [
    "max_length(\"abcdeabdfbgahijascbxyzwtjklb\")"
   ]
  },
  {
   "cell_type": "markdown",
   "id": "3a274022-cb87-4c81-ae73-d0a0118d2d60",
   "metadata": {},
   "source": [
    "# Extra Questions"
   ]
  },
  {
   "cell_type": "markdown",
   "id": "c61dfb50-c6be-4ff4-a0dd-caece0d6ff09",
   "metadata": {},
   "source": [
    "### Q. Check if a given string is a Palindrome"
   ]
  },
  {
   "cell_type": "code",
   "execution_count": 29,
   "id": "4fe6dd28-0aaf-48e1-a171-3a7bc47d1903",
   "metadata": {},
   "outputs": [],
   "source": [
    "def is_palindrome(input_string):\n",
    "\ti = 0\n",
    "\tj = len(input_string) - 1\n",
    "\twhile (i < j):\n",
    "\t\tif input_string[i] != input_string[j]:\n",
    "\t\t\treturn False\n",
    "\t\ti += 1\n",
    "\t\tj -= 1\n",
    "\treturn True"
   ]
  },
  {
   "cell_type": "code",
   "execution_count": 30,
   "id": "c83c182d-786d-422a-9e37-92b92756ed0c",
   "metadata": {},
   "outputs": [],
   "source": [
    "def is_palindrome2(input_string):\n",
    "\treturn input_string == input_string[::-1]"
   ]
  },
  {
   "cell_type": "markdown",
   "id": "cc6e7480-a69b-4c43-ad4b-6d722dbef700",
   "metadata": {},
   "source": [
    "### Q. Return the Factorial of a given number\n",
    "\n",
    "- If input is negative, return -1"
   ]
  },
  {
   "cell_type": "code",
   "execution_count": 31,
   "id": "b719bc7f-0518-4ef7-a9d1-611991477446",
   "metadata": {},
   "outputs": [],
   "source": [
    "def get_factorial(num):\n",
    "\t# iterative\n",
    "\tif num < 0:\n",
    "\t\treturn -1\n",
    "\t\t\n",
    "\tif num <= 1:\n",
    "\t\treturn 1\n",
    "\t\t\n",
    "\tres = 1\n",
    "\twhile num >= 2:\n",
    "\t\tres *= num\n",
    "\t\tnum -= 1\n",
    "\treturn res"
   ]
  },
  {
   "cell_type": "code",
   "execution_count": 32,
   "id": "a6408475-ba69-40bc-9e8c-02e6d0f0a1b1",
   "metadata": {},
   "outputs": [],
   "source": [
    "def get_factorial_recursion(num):\n",
    "\t# recursive\n",
    "\tif num < 0:\n",
    "\t\treturn -1\n",
    "\t\t\n",
    "\tif num <= 1:\n",
    "\t\treturn 1\n",
    "\n",
    "\treturn num * get_factorial_recursion(num - 1)"
   ]
  },
  {
   "cell_type": "markdown",
   "id": "625f1f8b-38aa-46aa-be7b-ba0f1bfa3576",
   "metadata": {},
   "source": [
    "### Q. Check if a given number is Prime or not"
   ]
  },
  {
   "cell_type": "code",
   "execution_count": 33,
   "id": "3e7dc79f-5736-49ce-8ab7-1c1ee11297c2",
   "metadata": {},
   "outputs": [],
   "source": [
    "def is_prime(num):\n",
    "\tif num < 2:\n",
    "\t\treturn False\n",
    "\t\t\n",
    "\tfor i in range(2, (num // 2) + 1):\n",
    "\t\tif num % i == 0:\n",
    "\t\t\treturn False\n",
    "\treturn True"
   ]
  },
  {
   "cell_type": "code",
   "execution_count": 34,
   "id": "8a4dc412-7d9b-4123-81ac-4d24e2526743",
   "metadata": {},
   "outputs": [],
   "source": [
    "def is_prime_2(num):\n",
    "\t# optimized\n",
    "\tif num < 2:\n",
    "\t\treturn False\n",
    "\t\t\n",
    "\tfor i in range(2, int(num ** 0.5) + 1):\n",
    "\t\tif num % i == 0:\n",
    "\t\t\treturn False\n",
    "\treturn True"
   ]
  }
 ],
 "metadata": {
  "kernelspec": {
   "display_name": "demo",
   "language": "python",
   "name": "demo"
  },
  "language_info": {
   "codemirror_mode": {
    "name": "ipython",
    "version": 3
   },
   "file_extension": ".py",
   "mimetype": "text/x-python",
   "name": "python",
   "nbconvert_exporter": "python",
   "pygments_lexer": "ipython3",
   "version": "3.11.1"
  }
 },
 "nbformat": 4,
 "nbformat_minor": 5
}
