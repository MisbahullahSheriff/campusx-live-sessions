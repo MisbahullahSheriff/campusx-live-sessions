{
 "cells": [
  {
   "cell_type": "markdown",
   "id": "4b76bbc9-f3dd-45b4-a2a4-4876fce744f4",
   "metadata": {},
   "source": [
    "# Import Libraries"
   ]
  },
  {
   "cell_type": "code",
   "execution_count": 131,
   "id": "cde465f6-db48-479c-ae63-af1e040ece6d",
   "metadata": {},
   "outputs": [],
   "source": [
    "import sys\n",
    "import copy\n",
    "import pickle"
   ]
  },
  {
   "cell_type": "markdown",
   "id": "3fc31e5c-f890-4634-8443-1edb9b9dc6a2",
   "metadata": {},
   "source": [
    "# Theoretical Concepts"
   ]
  },
  {
   "cell_type": "markdown",
   "id": "7ea8f27f-38b8-4c51-a52a-71293979f520",
   "metadata": {},
   "source": [
    "### Q2. __repr__"
   ]
  },
  {
   "cell_type": "code",
   "execution_count": 1,
   "id": "cc6f09a8-a277-4fb0-b697-e2f549e2118c",
   "metadata": {},
   "outputs": [],
   "source": [
    "# Person class\n",
    "\n",
    "class Person:\n",
    "\tdef __init__(self, name, age, gender):\n",
    "\t\tself.name = name\n",
    "\t\tself.age = age\n",
    "\t\tself.gender = gender"
   ]
  },
  {
   "cell_type": "code",
   "execution_count": 2,
   "id": "3f835520-e2b9-4d29-a57a-f461ed41fdff",
   "metadata": {},
   "outputs": [],
   "source": [
    "jack = Person('Jack', 25, 'Male')"
   ]
  },
  {
   "cell_type": "code",
   "execution_count": 3,
   "id": "4c04f1e2-449a-468a-b1d7-f0fe0342b34c",
   "metadata": {},
   "outputs": [
    {
     "data": {
      "text/plain": [
       "<__main__.Person at 0x13d5ad8a390>"
      ]
     },
     "execution_count": 3,
     "metadata": {},
     "output_type": "execute_result"
    }
   ],
   "source": [
    "jack"
   ]
  },
  {
   "cell_type": "code",
   "execution_count": 4,
   "id": "fdb45f7f-aa41-4040-8730-ea27480947b7",
   "metadata": {},
   "outputs": [],
   "source": [
    "class Person:\n",
    "\tdef __init__(self, name, age, gender):\n",
    "\t\tself.name = name\n",
    "\t\tself.age = age\n",
    "\t\tself.gender = gender\n",
    "\n",
    "\n",
    "\tdef __repr__(self):\n",
    "\t\treturn f\"Person(name='{self.name}', age={self.age}, gender='{self.gender}')\""
   ]
  },
  {
   "cell_type": "code",
   "execution_count": 5,
   "id": "e1f7e630-6273-4dff-a9fd-60bd779349cb",
   "metadata": {},
   "outputs": [],
   "source": [
    "jack = Person('Jack', 25, 'Male')"
   ]
  },
  {
   "cell_type": "code",
   "execution_count": 6,
   "id": "91244643-67f4-4985-a267-7c76630906da",
   "metadata": {},
   "outputs": [
    {
     "data": {
      "text/plain": [
       "Person(name='Jack', age=25, gender='Male')"
      ]
     },
     "execution_count": 6,
     "metadata": {},
     "output_type": "execute_result"
    }
   ],
   "source": [
    "jack"
   ]
  },
  {
   "cell_type": "markdown",
   "id": "57f41652-92da-4d4f-b9bf-0afe1e0126fe",
   "metadata": {},
   "source": [
    "### Q3. Decorator"
   ]
  },
  {
   "cell_type": "code",
   "execution_count": 7,
   "id": "5cac534b-235d-4011-97f5-dba6aedf9967",
   "metadata": {},
   "outputs": [],
   "source": [
    "# original func\n",
    "\n",
    "def orig_func():\n",
    "\tprint(\"This is the original function\")"
   ]
  },
  {
   "cell_type": "code",
   "execution_count": 8,
   "id": "ab1da37a-eb7f-46a1-8470-f52d876cabfd",
   "metadata": {},
   "outputs": [
    {
     "name": "stdout",
     "output_type": "stream",
     "text": [
      "This is the original function\n"
     ]
    }
   ],
   "source": [
    "orig_func()"
   ]
  },
  {
   "cell_type": "code",
   "execution_count": 9,
   "id": "48598494-0a0e-4cb8-afc9-dbda178ec78e",
   "metadata": {},
   "outputs": [],
   "source": [
    "# decorator func\n",
    "\n",
    "def dec_func(func):\n",
    "\tdef wrapper():\n",
    "\t\tprint(\"Before calling original function\")\n",
    "\t\tfunc()\n",
    "\t\tprint(\"After calling original function\")\n",
    "\treturn wrapper"
   ]
  },
  {
   "cell_type": "code",
   "execution_count": 10,
   "id": "ec097538-a3f0-4373-bf90-f717ad973df1",
   "metadata": {},
   "outputs": [],
   "source": [
    "@dec_func\n",
    "def orig_func():\n",
    "\tprint(\"This is the original function\")"
   ]
  },
  {
   "cell_type": "code",
   "execution_count": 11,
   "id": "1d74a889-24a7-4545-9121-8ef674e3c9ae",
   "metadata": {},
   "outputs": [
    {
     "name": "stdout",
     "output_type": "stream",
     "text": [
      "Before calling original function\n",
      "This is the original function\n",
      "After calling original function\n"
     ]
    }
   ],
   "source": [
    "orig_func()"
   ]
  },
  {
   "cell_type": "code",
   "execution_count": 12,
   "id": "495bb7c1-2bea-4bf2-a79a-0ccaaf6df4ba",
   "metadata": {},
   "outputs": [],
   "source": [
    "def dec_func(func):\n",
    "\tdef wrapper():\n",
    "\t\tprint(\"Before calling original function\")\n",
    "\t\tfunc()\n",
    "\t\tprint(\"After calling original function\")\n",
    "\treturn wrapper\n",
    "\n",
    "def orig_func():\n",
    "\tprint(\"This is the original function\")\n",
    "\n",
    "orig_func = dec_func(orig_func)"
   ]
  },
  {
   "cell_type": "code",
   "execution_count": 13,
   "id": "957937f6-b293-4360-ace3-f2691a371962",
   "metadata": {},
   "outputs": [
    {
     "name": "stdout",
     "output_type": "stream",
     "text": [
      "Before calling original function\n",
      "This is the original function\n",
      "After calling original function\n"
     ]
    }
   ],
   "source": [
    "orig_func()"
   ]
  },
  {
   "cell_type": "markdown",
   "id": "ad6eb518-ed4b-465b-84d5-bc2e4c0b3eec",
   "metadata": {},
   "source": [
    "### Q4. Exception Handling"
   ]
  },
  {
   "cell_type": "code",
   "execution_count": 14,
   "id": "97dd3b2e-ab71-4bfd-b0ef-178c10a6c781",
   "metadata": {},
   "outputs": [
    {
     "ename": "ZeroDivisionError",
     "evalue": "division by zero",
     "output_type": "error",
     "traceback": [
      "\u001b[1;31m---------------------------------------------------------------------------\u001b[0m",
      "\u001b[1;31mZeroDivisionError\u001b[0m                         Traceback (most recent call last)",
      "Cell \u001b[1;32mIn[14], line 3\u001b[0m\n\u001b[0;32m      1\u001b[0m \u001b[38;5;66;03m# error message\u001b[39;00m\n\u001b[1;32m----> 3\u001b[0m \u001b[38;5;241;43m4\u001b[39;49m\u001b[43m \u001b[49m\u001b[38;5;241;43m/\u001b[39;49m\u001b[43m \u001b[49m\u001b[38;5;241;43m0\u001b[39;49m\n",
      "\u001b[1;31mZeroDivisionError\u001b[0m: division by zero"
     ]
    }
   ],
   "source": [
    "# error message\n",
    "\n",
    "4 / 0"
   ]
  },
  {
   "cell_type": "code",
   "execution_count": 21,
   "id": "6306041a-66f1-4163-8850-f382c48fc562",
   "metadata": {},
   "outputs": [
    {
     "name": "stdin",
     "output_type": "stream",
     "text": [
      "Enter numerator:  4\n",
      "Enter denominator:  5\n"
     ]
    },
    {
     "name": "stdout",
     "output_type": "stream",
     "text": [
      "\n",
      "Value = 0.8\n",
      "\n",
      "This always executes\n"
     ]
    }
   ],
   "source": [
    "num = int(input(\"Enter numerator: \"))\n",
    "denom = int(input(\"Enter denominator: \"))\n",
    "\n",
    "try:\n",
    "\tres = num / denom\n",
    "except ZeroDivisionError as exc:\n",
    "\tprint(f\"\\nError: Denominator cannot be zero! Please provide a non-zero value.\")\n",
    "else:\n",
    "\tprint(f\"\\nValue = {res}\")\n",
    "finally:\n",
    "\tprint(\"\\nThis always executes\")"
   ]
  },
  {
   "cell_type": "markdown",
   "id": "00d5a292-e52a-42ea-a7a8-76b389bb9068",
   "metadata": {},
   "source": [
    "### Q5. Scopes"
   ]
  },
  {
   "cell_type": "code",
   "execution_count": 22,
   "id": "091f17c1-43ca-4b77-b2e4-396f9bc4910e",
   "metadata": {},
   "outputs": [
    {
     "name": "stdout",
     "output_type": "stream",
     "text": [
      "Inside inner_func: var = 20\n",
      "Inside outer_func: var = 15\n",
      "In global scope: var = 10\n"
     ]
    }
   ],
   "source": [
    "var = 10\n",
    "\n",
    "def outer_func():\n",
    "\t# inside outer func\n",
    "\tvar = 15\n",
    "\t\n",
    "\tdef inner_func():\n",
    "\t\t# inside inner func\n",
    "\t\tvar = 20\n",
    "\t\tprint(f\"Inside inner_func: var = {var}\")\n",
    "\t\treturn\n",
    "\n",
    "\tinner_func()\n",
    "\tprint(f\"Inside outer_func: var = {var}\")\n",
    "\treturn\n",
    "\n",
    "outer_func()\n",
    "print(f\"In global scope: var = {var}\")"
   ]
  },
  {
   "cell_type": "code",
   "execution_count": 24,
   "id": "cffdbfca-eb9b-4bea-b686-818a420773ff",
   "metadata": {},
   "outputs": [
    {
     "name": "stdout",
     "output_type": "stream",
     "text": [
      "Inside inner_func: var = 15\n",
      "Inside outer_func: var = 15\n",
      "In global scope: var = 10\n"
     ]
    }
   ],
   "source": [
    "var = 10\n",
    "\n",
    "def outer_func():\n",
    "\t# inside outer func\n",
    "\tvar = 15\n",
    "\t\n",
    "\tdef inner_func():\n",
    "\t\t# inside inner func\n",
    "\t\tprint(f\"Inside inner_func: var = {var}\")\n",
    "\t\treturn\n",
    "\n",
    "\tinner_func()\n",
    "\tprint(f\"Inside outer_func: var = {var}\")\n",
    "\treturn\n",
    "\n",
    "outer_func()\n",
    "print(f\"In global scope: var = {var}\")"
   ]
  },
  {
   "cell_type": "markdown",
   "id": "caf4e026-5f4d-4eab-8c39-af629d82191a",
   "metadata": {},
   "source": [
    "### Q7. List Comprehensions"
   ]
  },
  {
   "cell_type": "code",
   "execution_count": 25,
   "id": "e7e5dafe-b1ac-4896-93c0-640dbf9d9749",
   "metadata": {},
   "outputs": [],
   "source": [
    "numbers = range(1, 21)"
   ]
  },
  {
   "cell_type": "code",
   "execution_count": 26,
   "id": "9bb49ae4-ac69-4eae-b782-9378c9b8ac78",
   "metadata": {},
   "outputs": [
    {
     "data": {
      "text/plain": [
       "[2, 4, 6, 8, 10, 12, 14, 16, 18, 20]"
      ]
     },
     "execution_count": 26,
     "metadata": {},
     "output_type": "execute_result"
    }
   ],
   "source": [
    "# basic way\n",
    "\n",
    "res = []\n",
    "for num in numbers:\n",
    "\tif num % 2 == 0:\n",
    "\t\tres.append(num)\n",
    "\n",
    "res"
   ]
  },
  {
   "cell_type": "code",
   "execution_count": 30,
   "id": "35608644-f093-4df5-af59-f2533123f53f",
   "metadata": {},
   "outputs": [
    {
     "name": "stdout",
     "output_type": "stream",
     "text": [
      "2, 4, 6, 8, 10, 12, 14, 16, 18, 20\n"
     ]
    }
   ],
   "source": [
    "print(*[num for num in numbers if num % 2 == 0], sep=\", \")"
   ]
  },
  {
   "cell_type": "code",
   "execution_count": 34,
   "id": "97150d90-ba78-48d0-9381-22299268198e",
   "metadata": {},
   "outputs": [
    {
     "name": "stdout",
     "output_type": "stream",
     "text": [
      "2, 4, 6, 8, 10, 12, 14, 16, 18, 20\n"
     ]
    }
   ],
   "source": [
    "print(\", \".join([str(num) for num in numbers if num % 2 == 0]))"
   ]
  },
  {
   "cell_type": "markdown",
   "id": "06f5af7c-1fd3-4b77-923b-dac706a10bfc",
   "metadata": {},
   "source": [
    "### Q8. Interning"
   ]
  },
  {
   "cell_type": "code",
   "execution_count": 35,
   "id": "c550339c-1019-4c92-9c14-eb602d4012c0",
   "metadata": {},
   "outputs": [],
   "source": [
    "a = 4\n",
    "b = 4"
   ]
  },
  {
   "cell_type": "code",
   "execution_count": 36,
   "id": "cdfaecbd-5b4b-409d-81dc-bed34040b054",
   "metadata": {},
   "outputs": [],
   "source": [
    "c = 300\n",
    "d = 300"
   ]
  },
  {
   "cell_type": "code",
   "execution_count": 37,
   "id": "93078a8b-1c65-4512-a1a9-95e2ddb65e59",
   "metadata": {},
   "outputs": [
    {
     "data": {
      "text/plain": [
       "True"
      ]
     },
     "execution_count": 37,
     "metadata": {},
     "output_type": "execute_result"
    }
   ],
   "source": [
    "a is b"
   ]
  },
  {
   "cell_type": "code",
   "execution_count": 38,
   "id": "dd82d95b-2389-4658-91df-383738a38842",
   "metadata": {},
   "outputs": [
    {
     "data": {
      "text/plain": [
       "False"
      ]
     },
     "execution_count": 38,
     "metadata": {},
     "output_type": "execute_result"
    }
   ],
   "source": [
    "c is d"
   ]
  },
  {
   "cell_type": "code",
   "execution_count": 42,
   "id": "c8677cfc-8903-47f4-8da0-3d6dbb5ff508",
   "metadata": {},
   "outputs": [
    {
     "data": {
      "text/plain": [
       "False"
      ]
     },
     "execution_count": 42,
     "metadata": {},
     "output_type": "execute_result"
    }
   ],
   "source": [
    "x = -6\n",
    "y = -6\n",
    "\n",
    "x is y"
   ]
  },
  {
   "cell_type": "markdown",
   "id": "b65bd960-4562-42d6-9260-66e113217527",
   "metadata": {},
   "source": [
    "### Q9. Generators"
   ]
  },
  {
   "cell_type": "code",
   "execution_count": 49,
   "id": "639a2492-59e7-4528-9867-dd73a096c982",
   "metadata": {},
   "outputs": [],
   "source": [
    "numbers = range(1, 101)"
   ]
  },
  {
   "cell_type": "code",
   "execution_count": 50,
   "id": "751c24f0-716e-4e66-aa57-561fedfd64aa",
   "metadata": {},
   "outputs": [
    {
     "data": {
      "text/plain": [
       "[2,\n",
       " 4,\n",
       " 6,\n",
       " 8,\n",
       " 10,\n",
       " 12,\n",
       " 14,\n",
       " 16,\n",
       " 18,\n",
       " 20,\n",
       " 22,\n",
       " 24,\n",
       " 26,\n",
       " 28,\n",
       " 30,\n",
       " 32,\n",
       " 34,\n",
       " 36,\n",
       " 38,\n",
       " 40,\n",
       " 42,\n",
       " 44,\n",
       " 46,\n",
       " 48,\n",
       " 50,\n",
       " 52,\n",
       " 54,\n",
       " 56,\n",
       " 58,\n",
       " 60,\n",
       " 62,\n",
       " 64,\n",
       " 66,\n",
       " 68,\n",
       " 70,\n",
       " 72,\n",
       " 74,\n",
       " 76,\n",
       " 78,\n",
       " 80,\n",
       " 82,\n",
       " 84,\n",
       " 86,\n",
       " 88,\n",
       " 90,\n",
       " 92,\n",
       " 94,\n",
       " 96,\n",
       " 98,\n",
       " 100]"
      ]
     },
     "execution_count": 50,
     "metadata": {},
     "output_type": "execute_result"
    }
   ],
   "source": [
    "# list\n",
    "\n",
    "res_list = [num for num in numbers if num % 2 == 0]\n",
    "res_list"
   ]
  },
  {
   "cell_type": "code",
   "execution_count": 52,
   "id": "5950089c-a114-4a3e-b644-995d12cc1964",
   "metadata": {},
   "outputs": [
    {
     "data": {
      "text/plain": [
       "472"
      ]
     },
     "execution_count": 52,
     "metadata": {},
     "output_type": "execute_result"
    }
   ],
   "source": [
    "sys.getsizeof(res_list)"
   ]
  },
  {
   "cell_type": "code",
   "execution_count": 53,
   "id": "cfd15115-9229-4f42-9994-4fbf42cdb0a0",
   "metadata": {},
   "outputs": [],
   "source": [
    "# generator function\n",
    "\n",
    "def gen_func(seq):\n",
    "\tfor num in seq:\n",
    "\t\tif num % 2 == 0:\n",
    "\t\t\tyield num"
   ]
  },
  {
   "cell_type": "code",
   "execution_count": 54,
   "id": "3e3036e9-e0a9-40c2-b250-0c3d33771bc6",
   "metadata": {},
   "outputs": [],
   "source": [
    "res_gen = gen_func(numbers)"
   ]
  },
  {
   "cell_type": "code",
   "execution_count": 55,
   "id": "decae06c-9d1b-441e-afba-da60c0b54e59",
   "metadata": {},
   "outputs": [
    {
     "data": {
      "text/plain": [
       "<generator object gen_func at 0x0000013D5B98BB90>"
      ]
     },
     "execution_count": 55,
     "metadata": {},
     "output_type": "execute_result"
    }
   ],
   "source": [
    "res_gen"
   ]
  },
  {
   "cell_type": "code",
   "execution_count": 56,
   "id": "daca9359-fda2-4d2c-b6c1-1b635dfe9b61",
   "metadata": {},
   "outputs": [
    {
     "data": {
      "text/plain": [
       "2"
      ]
     },
     "execution_count": 56,
     "metadata": {},
     "output_type": "execute_result"
    }
   ],
   "source": [
    "next(res_gen)"
   ]
  },
  {
   "cell_type": "code",
   "execution_count": 57,
   "id": "753a41e3-0fd0-4928-8b14-8d47f70f9e55",
   "metadata": {},
   "outputs": [
    {
     "data": {
      "text/plain": [
       "4"
      ]
     },
     "execution_count": 57,
     "metadata": {},
     "output_type": "execute_result"
    }
   ],
   "source": [
    "next(res_gen)"
   ]
  },
  {
   "cell_type": "code",
   "execution_count": 61,
   "id": "d404b4b0-0c00-483e-95da-c9edcbcd2279",
   "metadata": {},
   "outputs": [
    {
     "data": {
      "text/plain": [
       "12"
      ]
     },
     "execution_count": 61,
     "metadata": {},
     "output_type": "execute_result"
    }
   ],
   "source": [
    "next(res_gen)"
   ]
  },
  {
   "cell_type": "code",
   "execution_count": 62,
   "id": "9d0fe7e1-98d0-4222-a98c-d4df668a973c",
   "metadata": {},
   "outputs": [
    {
     "data": {
      "text/plain": [
       "208"
      ]
     },
     "execution_count": 62,
     "metadata": {},
     "output_type": "execute_result"
    }
   ],
   "source": [
    "sys.getsizeof(res_gen)"
   ]
  },
  {
   "cell_type": "code",
   "execution_count": 63,
   "id": "5c8bd814-93f0-43bb-bfdf-e411c40729cb",
   "metadata": {},
   "outputs": [
    {
     "name": "stdout",
     "output_type": "stream",
     "text": [
      "14\n",
      "16\n",
      "18\n",
      "20\n",
      "22\n",
      "24\n",
      "26\n",
      "28\n",
      "30\n",
      "32\n",
      "34\n",
      "36\n",
      "38\n",
      "40\n",
      "42\n",
      "44\n",
      "46\n",
      "48\n",
      "50\n",
      "52\n",
      "54\n",
      "56\n",
      "58\n",
      "60\n",
      "62\n",
      "64\n",
      "66\n",
      "68\n",
      "70\n",
      "72\n",
      "74\n",
      "76\n",
      "78\n",
      "80\n",
      "82\n",
      "84\n",
      "86\n",
      "88\n",
      "90\n",
      "92\n",
      "94\n",
      "96\n",
      "98\n",
      "100\n"
     ]
    }
   ],
   "source": [
    "for i in res_gen:\n",
    "\tprint(i)"
   ]
  },
  {
   "cell_type": "code",
   "execution_count": 64,
   "id": "bb3deb25-bb37-4ed0-b897-c2dc2ac7511b",
   "metadata": {},
   "outputs": [
    {
     "data": {
      "text/plain": [
       "<generator object <genexpr> at 0x0000013D5C0D8930>"
      ]
     },
     "execution_count": 64,
     "metadata": {},
     "output_type": "execute_result"
    }
   ],
   "source": [
    "# generator expression\n",
    "\n",
    "res_gen_exp = (num for num in numbers if num % 2 == 0)\n",
    "res_gen_exp"
   ]
  },
  {
   "cell_type": "code",
   "execution_count": 65,
   "id": "4e6f6ff2-3a79-46de-a8a2-405b2f9cda6b",
   "metadata": {},
   "outputs": [
    {
     "data": {
      "text/plain": [
       "2"
      ]
     },
     "execution_count": 65,
     "metadata": {},
     "output_type": "execute_result"
    }
   ],
   "source": [
    "next(res_gen_exp)"
   ]
  },
  {
   "cell_type": "code",
   "execution_count": 66,
   "id": "783e2c30-ae9f-4249-9700-387e2a69abb9",
   "metadata": {},
   "outputs": [
    {
     "data": {
      "text/plain": [
       "4"
      ]
     },
     "execution_count": 66,
     "metadata": {},
     "output_type": "execute_result"
    }
   ],
   "source": [
    "next(res_gen_exp)"
   ]
  },
  {
   "cell_type": "code",
   "execution_count": 68,
   "id": "d62cca90-bf13-495f-9420-c5b94945cf8e",
   "metadata": {},
   "outputs": [
    {
     "name": "stdout",
     "output_type": "stream",
     "text": [
      "6\n",
      "8\n",
      "10\n",
      "12\n",
      "14\n",
      "16\n",
      "18\n",
      "20\n",
      "22\n",
      "24\n",
      "26\n",
      "28\n",
      "30\n",
      "32\n",
      "34\n",
      "36\n",
      "38\n",
      "40\n",
      "42\n",
      "44\n",
      "46\n",
      "48\n",
      "50\n",
      "52\n",
      "54\n",
      "56\n",
      "58\n",
      "60\n",
      "62\n",
      "64\n",
      "66\n",
      "68\n",
      "70\n",
      "72\n",
      "74\n",
      "76\n",
      "78\n",
      "80\n",
      "82\n",
      "84\n",
      "86\n",
      "88\n",
      "90\n",
      "92\n",
      "94\n",
      "96\n",
      "98\n",
      "100\n"
     ]
    }
   ],
   "source": [
    "for i in res_gen_exp:\n",
    "\tprint(i)"
   ]
  },
  {
   "cell_type": "markdown",
   "id": "a7e5db8e-7aa9-46f1-bd5c-93a0cfd1d170",
   "metadata": {},
   "source": [
    "### Q10. Shallow vs Deep Copy"
   ]
  },
  {
   "cell_type": "code",
   "execution_count": 70,
   "id": "cf905d9f-e673-4bd4-969b-8b047007b91a",
   "metadata": {},
   "outputs": [],
   "source": [
    "li = [1, 2, 3, [4, 5]]"
   ]
  },
  {
   "cell_type": "code",
   "execution_count": 71,
   "id": "609d8f1f-9e5c-426c-9a5f-7353697eea85",
   "metadata": {},
   "outputs": [
    {
     "data": {
      "text/plain": [
       "[1, 2, 3, [4, 5]]"
      ]
     },
     "execution_count": 71,
     "metadata": {},
     "output_type": "execute_result"
    }
   ],
   "source": [
    "li"
   ]
  },
  {
   "cell_type": "code",
   "execution_count": 72,
   "id": "6e7c6037-5039-4a0b-ab62-446c95334f40",
   "metadata": {},
   "outputs": [
    {
     "data": {
      "text/plain": [
       "[1, 2, 3, [4, 5]]"
      ]
     },
     "execution_count": 72,
     "metadata": {},
     "output_type": "execute_result"
    }
   ],
   "source": [
    "# shallow copy\n",
    "\n",
    "li2 = copy.copy(li)\n",
    "li2"
   ]
  },
  {
   "cell_type": "code",
   "execution_count": 75,
   "id": "123b531e-bec7-46b6-a530-9d2431f60649",
   "metadata": {},
   "outputs": [],
   "source": [
    "li[-1][0] = 10"
   ]
  },
  {
   "cell_type": "code",
   "execution_count": 76,
   "id": "42f3a5c9-f0d4-47ab-8829-971f61451ef1",
   "metadata": {},
   "outputs": [
    {
     "data": {
      "text/plain": [
       "[1, 2, 3, [10, 5]]"
      ]
     },
     "execution_count": 76,
     "metadata": {},
     "output_type": "execute_result"
    }
   ],
   "source": [
    "li"
   ]
  },
  {
   "cell_type": "code",
   "execution_count": 77,
   "id": "bba6aa28-421a-4aa6-9cc9-94b0ff7b5d4e",
   "metadata": {},
   "outputs": [
    {
     "data": {
      "text/plain": [
       "[1, 2, 3, [10, 5]]"
      ]
     },
     "execution_count": 77,
     "metadata": {},
     "output_type": "execute_result"
    }
   ],
   "source": [
    "li2"
   ]
  },
  {
   "cell_type": "code",
   "execution_count": 78,
   "id": "77c01f4e-940f-4522-8627-9199efb25c16",
   "metadata": {},
   "outputs": [],
   "source": [
    "# deep copy\n",
    "\n",
    "li3 = copy.deepcopy(li)"
   ]
  },
  {
   "cell_type": "code",
   "execution_count": 79,
   "id": "c85cd189-1dd6-4ba6-92b0-106a2d7c224e",
   "metadata": {},
   "outputs": [
    {
     "data": {
      "text/plain": [
       "[1, 2, 3, [10, 5]]"
      ]
     },
     "execution_count": 79,
     "metadata": {},
     "output_type": "execute_result"
    }
   ],
   "source": [
    "li"
   ]
  },
  {
   "cell_type": "code",
   "execution_count": 80,
   "id": "101931d8-dba5-44a0-bd7c-d1a0aba581a4",
   "metadata": {},
   "outputs": [
    {
     "data": {
      "text/plain": [
       "[1, 2, 3, [10, 5]]"
      ]
     },
     "execution_count": 80,
     "metadata": {},
     "output_type": "execute_result"
    }
   ],
   "source": [
    "li3"
   ]
  },
  {
   "cell_type": "code",
   "execution_count": 82,
   "id": "067ebe21-83b2-44ab-9e4d-751e353ead35",
   "metadata": {},
   "outputs": [],
   "source": [
    "li[-1][0] = 20"
   ]
  },
  {
   "cell_type": "code",
   "execution_count": 83,
   "id": "320451f2-070c-4eae-a3c8-6dd33156563e",
   "metadata": {},
   "outputs": [
    {
     "data": {
      "text/plain": [
       "[1, 2, 3, [20, 5]]"
      ]
     },
     "execution_count": 83,
     "metadata": {},
     "output_type": "execute_result"
    }
   ],
   "source": [
    "li"
   ]
  },
  {
   "cell_type": "code",
   "execution_count": 84,
   "id": "5d6da9e9-845c-4b90-aaeb-05b1adb58f60",
   "metadata": {},
   "outputs": [
    {
     "data": {
      "text/plain": [
       "[1, 2, 3, [10, 5]]"
      ]
     },
     "execution_count": 84,
     "metadata": {},
     "output_type": "execute_result"
    }
   ],
   "source": [
    "li3"
   ]
  },
  {
   "cell_type": "markdown",
   "id": "e7af7eb7-b5f6-4a6b-bd2a-a5893f85100c",
   "metadata": {},
   "source": [
    "### Q11. Append vs Extend"
   ]
  },
  {
   "cell_type": "code",
   "execution_count": 85,
   "id": "3ce7d724-c5eb-4a4a-9723-8ba1a2643104",
   "metadata": {},
   "outputs": [],
   "source": [
    "li = [1, 2, 3, 4, 5]"
   ]
  },
  {
   "cell_type": "code",
   "execution_count": 86,
   "id": "c3457bfc-ffd8-447a-9c3d-120650e0c5d0",
   "metadata": {},
   "outputs": [
    {
     "data": {
      "text/plain": [
       "[1, 2, 3, 4, 5]"
      ]
     },
     "execution_count": 86,
     "metadata": {},
     "output_type": "execute_result"
    }
   ],
   "source": [
    "li"
   ]
  },
  {
   "cell_type": "code",
   "execution_count": 87,
   "id": "551e5e0c-33a0-43b1-a11c-5b4bba0c17b7",
   "metadata": {},
   "outputs": [],
   "source": [
    "# append\n",
    "\n",
    "li.append(6)"
   ]
  },
  {
   "cell_type": "code",
   "execution_count": 88,
   "id": "e4354865-e38c-4842-af36-60766f1055ab",
   "metadata": {},
   "outputs": [
    {
     "data": {
      "text/plain": [
       "[1, 2, 3, 4, 5, 6]"
      ]
     },
     "execution_count": 88,
     "metadata": {},
     "output_type": "execute_result"
    }
   ],
   "source": [
    "li"
   ]
  },
  {
   "cell_type": "code",
   "execution_count": 89,
   "id": "8b4476f1-e6ad-4d47-9df4-136841f311a8",
   "metadata": {},
   "outputs": [
    {
     "ename": "TypeError",
     "evalue": "list.append() takes exactly one argument (2 given)",
     "output_type": "error",
     "traceback": [
      "\u001b[1;31m---------------------------------------------------------------------------\u001b[0m",
      "\u001b[1;31mTypeError\u001b[0m                                 Traceback (most recent call last)",
      "Cell \u001b[1;32mIn[89], line 1\u001b[0m\n\u001b[1;32m----> 1\u001b[0m \u001b[43mli\u001b[49m\u001b[38;5;241;43m.\u001b[39;49m\u001b[43mappend\u001b[49m\u001b[43m(\u001b[49m\u001b[38;5;241;43m7\u001b[39;49m\u001b[43m,\u001b[49m\u001b[43m \u001b[49m\u001b[38;5;241;43m8\u001b[39;49m\u001b[43m)\u001b[49m\n",
      "\u001b[1;31mTypeError\u001b[0m: list.append() takes exactly one argument (2 given)"
     ]
    }
   ],
   "source": [
    "li.append(7, 8)"
   ]
  },
  {
   "cell_type": "code",
   "execution_count": 90,
   "id": "80405036-9dff-4444-a0e0-cb5b5e75e674",
   "metadata": {},
   "outputs": [
    {
     "data": {
      "text/plain": [
       "[1, 2, 3, 4, 5, 6, [7, 8]]"
      ]
     },
     "execution_count": 90,
     "metadata": {},
     "output_type": "execute_result"
    }
   ],
   "source": [
    "li.append([7, 8])\n",
    "\n",
    "li"
   ]
  },
  {
   "cell_type": "code",
   "execution_count": 91,
   "id": "dda1aa09-9fdd-4b62-a922-b22e72e6ba15",
   "metadata": {},
   "outputs": [
    {
     "ename": "TypeError",
     "evalue": "'int' object is not iterable",
     "output_type": "error",
     "traceback": [
      "\u001b[1;31m---------------------------------------------------------------------------\u001b[0m",
      "\u001b[1;31mTypeError\u001b[0m                                 Traceback (most recent call last)",
      "Cell \u001b[1;32mIn[91], line 3\u001b[0m\n\u001b[0;32m      1\u001b[0m \u001b[38;5;66;03m# extend\u001b[39;00m\n\u001b[1;32m----> 3\u001b[0m \u001b[43mli\u001b[49m\u001b[38;5;241;43m.\u001b[39;49m\u001b[43mextend\u001b[49m\u001b[43m(\u001b[49m\u001b[38;5;241;43m9\u001b[39;49m\u001b[43m)\u001b[49m\n",
      "\u001b[1;31mTypeError\u001b[0m: 'int' object is not iterable"
     ]
    }
   ],
   "source": [
    "# extend\n",
    "\n",
    "li.extend(9)"
   ]
  },
  {
   "cell_type": "code",
   "execution_count": 92,
   "id": "651c10d3-03c1-49ca-a440-96c53b4183cf",
   "metadata": {},
   "outputs": [],
   "source": [
    "li.extend([9, 10, 11])"
   ]
  },
  {
   "cell_type": "code",
   "execution_count": 93,
   "id": "96121a4a-8dce-480a-97e2-7ea86ebd541c",
   "metadata": {},
   "outputs": [
    {
     "data": {
      "text/plain": [
       "[1, 2, 3, 4, 5, 6, [7, 8], 9, 10, 11]"
      ]
     },
     "execution_count": 93,
     "metadata": {},
     "output_type": "execute_result"
    }
   ],
   "source": [
    "li"
   ]
  },
  {
   "cell_type": "code",
   "execution_count": 94,
   "id": "79adf27d-7658-4a2c-bad1-53f6c8600c4a",
   "metadata": {},
   "outputs": [
    {
     "data": {
      "text/plain": [
       "[1, 2, 3, 4, 5, 6, [7, 8], 9, 10, 11, 12, 13]"
      ]
     },
     "execution_count": 94,
     "metadata": {},
     "output_type": "execute_result"
    }
   ],
   "source": [
    "li.extend((12, 13))\n",
    "\n",
    "li"
   ]
  },
  {
   "cell_type": "markdown",
   "id": "eb914bae-6bd1-40ff-aa6e-b264abe61198",
   "metadata": {},
   "source": [
    "### Q12. Print values separated by a space"
   ]
  },
  {
   "cell_type": "code",
   "execution_count": 96,
   "id": "e07c194c-31d5-4ab3-b9ac-c68e5ece02fb",
   "metadata": {},
   "outputs": [],
   "source": [
    "inp = (4, 5, 6, 7, 8)"
   ]
  },
  {
   "cell_type": "code",
   "execution_count": 98,
   "id": "bda35417-915c-400a-a918-2ddce636e05f",
   "metadata": {},
   "outputs": [
    {
     "name": "stdout",
     "output_type": "stream",
     "text": [
      "4 5 6 7 8\n"
     ]
    }
   ],
   "source": [
    "print(*inp)"
   ]
  },
  {
   "cell_type": "markdown",
   "id": "f5cfe48a-6cba-42d9-8557-0de4144d24d9",
   "metadata": {},
   "source": [
    "### Q13. String Reversal"
   ]
  },
  {
   "cell_type": "code",
   "execution_count": 99,
   "id": "ca579b13-252a-4f5c-9fda-07f32c9db979",
   "metadata": {},
   "outputs": [],
   "source": [
    "string = \"This is a string\""
   ]
  },
  {
   "cell_type": "code",
   "execution_count": 101,
   "id": "3e9a7eb3-b2f2-4239-a942-b638a6207644",
   "metadata": {},
   "outputs": [
    {
     "data": {
      "text/plain": [
       "'gnirts a si sihT'"
      ]
     },
     "execution_count": 101,
     "metadata": {},
     "output_type": "execute_result"
    }
   ],
   "source": [
    "# for loop\n",
    "\n",
    "result = \"\"\n",
    "\n",
    "for ch in string:\n",
    "\tresult = ch + result\n",
    "\n",
    "result"
   ]
  },
  {
   "cell_type": "code",
   "execution_count": 103,
   "id": "e24b9ed9-3ab3-43c2-8359-ba3c1ca42e98",
   "metadata": {},
   "outputs": [
    {
     "data": {
      "text/plain": [
       "'gnirts a si sihT'"
      ]
     },
     "execution_count": 103,
     "metadata": {},
     "output_type": "execute_result"
    }
   ],
   "source": [
    "# reversed()\n",
    "\n",
    "\"\".join(reversed(string))"
   ]
  },
  {
   "cell_type": "code",
   "execution_count": 105,
   "id": "51b3e5e0-d718-42a4-bcae-02c69bb92e15",
   "metadata": {},
   "outputs": [
    {
     "data": {
      "text/plain": [
       "'gnirts a si sihT'"
      ]
     },
     "execution_count": 105,
     "metadata": {},
     "output_type": "execute_result"
    }
   ],
   "source": [
    "# slicing\n",
    "\n",
    "string[::-1]"
   ]
  },
  {
   "cell_type": "markdown",
   "id": "36038939-ed1f-472f-b1c7-2e1c512da498",
   "metadata": {},
   "source": [
    "### Q14. Remove Duplicates"
   ]
  },
  {
   "cell_type": "code",
   "execution_count": 106,
   "id": "1ee4b8b6-a486-48a0-8d00-cd63393a9178",
   "metadata": {},
   "outputs": [],
   "source": [
    "li = [1, 2, 3, 2, 4, 7, 3, 3, 4, 5, 8, 9, 1, 2]"
   ]
  },
  {
   "cell_type": "code",
   "execution_count": 107,
   "id": "30dfdd54-9f12-4844-bc80-9b359e283f81",
   "metadata": {},
   "outputs": [
    {
     "data": {
      "text/plain": [
       "[1, 2, 3, 4, 7, 5, 8, 9]"
      ]
     },
     "execution_count": 107,
     "metadata": {},
     "output_type": "execute_result"
    }
   ],
   "source": [
    "# for loop\n",
    "\n",
    "res = []\n",
    "\n",
    "for ele in li:\n",
    "\tif ele not in res:\n",
    "\t\tres.append(ele)\n",
    "\n",
    "res"
   ]
  },
  {
   "cell_type": "code",
   "execution_count": 110,
   "id": "b6881ff3-8e47-482f-b09c-e5e0265ce273",
   "metadata": {},
   "outputs": [
    {
     "data": {
      "text/plain": [
       "[1, 2, 3, 4, 5, 7, 8, 9]"
      ]
     },
     "execution_count": 110,
     "metadata": {},
     "output_type": "execute_result"
    }
   ],
   "source": [
    "# set\n",
    "list(set(li))"
   ]
  },
  {
   "cell_type": "markdown",
   "id": "c353f431-68b9-46fe-9dcc-1e6d71476fe1",
   "metadata": {},
   "source": [
    "### Q15. with"
   ]
  },
  {
   "cell_type": "markdown",
   "id": "b8f9f35e-c187-4db9-ad46-9238552a9512",
   "metadata": {},
   "source": [
    "- open a text file\n",
    "- write to the file\n",
    "- close the file"
   ]
  },
  {
   "cell_type": "code",
   "execution_count": 111,
   "id": "791cfd06-78f0-4dcc-89f6-d29669699f83",
   "metadata": {},
   "outputs": [],
   "source": [
    "# manual\n",
    "\n",
    "file = open(\"sample.txt\", \"w\")\n",
    "file.write(\"This is a sample text.\")\n",
    "file.close()"
   ]
  },
  {
   "cell_type": "code",
   "execution_count": 112,
   "id": "e859142c-5381-462b-bfc6-6ef25d7e9f85",
   "metadata": {},
   "outputs": [],
   "source": [
    "# using with\n",
    "\n",
    "with open(\"sample_2.txt\", \"w\") as file:\n",
    "\tfile.write(\"This is another sample text.\")"
   ]
  },
  {
   "cell_type": "markdown",
   "id": "2855d146-dcf5-4de2-8b19-23ab049f63e1",
   "metadata": {},
   "source": [
    "### Q16. __init__"
   ]
  },
  {
   "cell_type": "code",
   "execution_count": 113,
   "id": "cf321a3e-e4a5-432d-a9a2-bcbc4ed1f441",
   "metadata": {},
   "outputs": [],
   "source": [
    "class Person:\n",
    "\t\n",
    "\tdef __init__(self, name, age, gender):\n",
    "\t\tself.name = name\n",
    "\t\tself.age = age\n",
    "\t\tself.gender = gender\n",
    "\n",
    "\n",
    "\tdef show_details(self):\n",
    "\t\tprint(\"Details:\")\n",
    "\t\tprint(\"-----------\")\n",
    "\t\tprint(f\"{'Name':<7}: {self.name}\")\n",
    "\t\tprint(f\"{'Age':<7}: {self.age}\")\n",
    "\t\tprint(f\"{'Gender':<7}: {self.gender}\")"
   ]
  },
  {
   "cell_type": "code",
   "execution_count": 114,
   "id": "f081db88-29fc-4bce-aa2e-de57e0c99a62",
   "metadata": {},
   "outputs": [],
   "source": [
    "jack = Person('Jack', 23, 'male')"
   ]
  },
  {
   "cell_type": "code",
   "execution_count": 115,
   "id": "91f901ec-b999-48ef-a6de-9099ba420af8",
   "metadata": {},
   "outputs": [
    {
     "name": "stdout",
     "output_type": "stream",
     "text": [
      "Details:\n",
      "-----------\n",
      "Name   : Jack\n",
      "Age    : 23\n",
      "Gender : male\n"
     ]
    }
   ],
   "source": [
    "jack.show_details()"
   ]
  },
  {
   "cell_type": "markdown",
   "id": "af4af1bd-6996-4f26-bd9a-baba932b23f4",
   "metadata": {},
   "source": [
    "- We're able to access the attributes `name`, `age` and `gender` without explicitly calling the `__init__` method\n",
    "- The `__init__` method gets called implicity at the time of creating objects"
   ]
  },
  {
   "cell_type": "markdown",
   "id": "1adc26f4-df30-4057-8ce8-1fa82f805bf0",
   "metadata": {},
   "source": [
    "### Q17. docstring"
   ]
  },
  {
   "cell_type": "markdown",
   "id": "32f3d82f-cad6-45f5-adbf-9fd22a7135f1",
   "metadata": {},
   "source": [
    "- Access and print the `__doc__` attribute of a function to display its docstring"
   ]
  },
  {
   "cell_type": "code",
   "execution_count": 116,
   "id": "995c64f7-80c8-4e25-8a98-c1759d5c2517",
   "metadata": {},
   "outputs": [],
   "source": [
    "def add_two_nums(x, y):\n",
    "\t\"\"\"\n",
    "This function will add two numbers and return the sum.\n",
    "\n",
    "Parameters:\n",
    "-----------\n",
    "x: the first number (int/float)\n",
    "   \n",
    "y: the second number (int/float)\n",
    "\n",
    "Returns:\n",
    "---------\n",
    "x + y: The sum of x and y (int/float)\n",
    "\t\"\"\"\n",
    "\treturn x + y"
   ]
  },
  {
   "cell_type": "code",
   "execution_count": 117,
   "id": "f947252d-4525-4a14-b9f1-e22153f0ef26",
   "metadata": {},
   "outputs": [
    {
     "data": {
      "text/plain": [
       "7"
      ]
     },
     "execution_count": 117,
     "metadata": {},
     "output_type": "execute_result"
    }
   ],
   "source": [
    "add_two_nums(3, 4)"
   ]
  },
  {
   "cell_type": "code",
   "execution_count": 118,
   "id": "71eba173-9ed9-4e43-985a-a454cb7fb2f4",
   "metadata": {},
   "outputs": [
    {
     "name": "stdout",
     "output_type": "stream",
     "text": [
      "\n",
      "This function will add two numbers and return the sum.\n",
      "\n",
      "Parameters:\n",
      "-----------\n",
      "x: the first number (int/float)\n",
      "   \n",
      "y: the second number (int/float)\n",
      "\n",
      "Returns:\n",
      "---------\n",
      "x + y: The sum of x and y (int/float)\n",
      "\t\n"
     ]
    }
   ],
   "source": [
    "print(add_two_nums.__doc__)"
   ]
  },
  {
   "cell_type": "markdown",
   "id": "12ea628b-fce6-47fe-aee6-9ae2fc1fdb05",
   "metadata": {},
   "source": [
    "### Q18. args and kwargs"
   ]
  },
  {
   "cell_type": "code",
   "execution_count": 119,
   "id": "8e069922-534e-48c7-bfa4-70dba00a6bc9",
   "metadata": {},
   "outputs": [],
   "source": [
    "# calculate sum of numbers\n",
    "\n",
    "def calculate_total(*args):\n",
    "\treturn args, sum(args), type(args)"
   ]
  },
  {
   "cell_type": "code",
   "execution_count": 120,
   "id": "d530a671-967e-470e-b5ee-e2c0cd7cc754",
   "metadata": {},
   "outputs": [
    {
     "data": {
      "text/plain": [
       "((3, 4, 5, 6, 7, 8, 9, 10), 52, tuple)"
      ]
     },
     "execution_count": 120,
     "metadata": {},
     "output_type": "execute_result"
    }
   ],
   "source": [
    "calculate_total(3, 4, 5, 6, 7, 8, 9, 10)"
   ]
  },
  {
   "cell_type": "code",
   "execution_count": 121,
   "id": "184239e2-39c9-4b7d-a9ee-12081f32c677",
   "metadata": {},
   "outputs": [],
   "source": [
    "# person bio\n",
    "\n",
    "def display_bio(**kwargs):\n",
    "\tprint(\"Bio:\")\n",
    "\tprint(\"-----------\")\n",
    "\tfor key, value in kwargs.items():\n",
    "\t\tprint(f\"{key.title():<7}: {value}\")"
   ]
  },
  {
   "cell_type": "code",
   "execution_count": 122,
   "id": "5b478649-bf93-4676-a541-548d59df8460",
   "metadata": {},
   "outputs": [
    {
     "name": "stdout",
     "output_type": "stream",
     "text": [
      "Bio:\n",
      "-----------\n",
      "Name   : John\n",
      "Age    : 25\n",
      "Gender : Male\n",
      "Pos    : Manager\n",
      "Spouse : Jane\n",
      "School : ABC\n",
      "Office : XYZ\n",
      "City   : NYC\n"
     ]
    }
   ],
   "source": [
    "display_bio(\n",
    "\tname='John', age=25, gender='Male', pos='Manager', \n",
    "\tspouse='Jane', school='ABC', office='XYZ', city='NYC'\n",
    ")"
   ]
  },
  {
   "cell_type": "markdown",
   "id": "b3da37a7-c60e-4240-ae8d-e2b86750b2ff",
   "metadata": {},
   "source": [
    "### Q19. input"
   ]
  },
  {
   "cell_type": "code",
   "execution_count": 125,
   "id": "05177250-fab6-41f8-a54a-bcd36b1b951f",
   "metadata": {},
   "outputs": [
    {
     "name": "stdin",
     "output_type": "stream",
     "text": [
      "Enter Numbers:  2, 5, 6, 8, 3, 5\n"
     ]
    },
    {
     "name": "stdout",
     "output_type": "stream",
     "text": [
      "\n",
      "Average: 4.833333333333333\n"
     ]
    }
   ],
   "source": [
    "input_ = input(\"Enter Numbers: \")\n",
    "\n",
    "numbers = list(map(int, input_.split(\", \")))\n",
    "\n",
    "res = sum(numbers) / len(numbers)\n",
    "print(f\"\\nAverage: {res}\")"
   ]
  },
  {
   "cell_type": "markdown",
   "id": "85ba5104-b204-40d0-98d6-ced703549cf7",
   "metadata": {},
   "source": [
    "### Q20. dir() and help()"
   ]
  },
  {
   "cell_type": "code",
   "execution_count": 126,
   "id": "8d43d23d-4413-4d17-9676-a8173103f14c",
   "metadata": {},
   "outputs": [],
   "source": [
    "a = 10"
   ]
  },
  {
   "cell_type": "code",
   "execution_count": 127,
   "id": "c3ef351f-8507-4049-aeea-5967f87bf1d4",
   "metadata": {},
   "outputs": [
    {
     "data": {
      "text/plain": [
       "['__abs__',\n",
       " '__add__',\n",
       " '__and__',\n",
       " '__bool__',\n",
       " '__ceil__',\n",
       " '__class__',\n",
       " '__delattr__',\n",
       " '__dir__',\n",
       " '__divmod__',\n",
       " '__doc__',\n",
       " '__eq__',\n",
       " '__float__',\n",
       " '__floor__',\n",
       " '__floordiv__',\n",
       " '__format__',\n",
       " '__ge__',\n",
       " '__getattribute__',\n",
       " '__getnewargs__',\n",
       " '__getstate__',\n",
       " '__gt__',\n",
       " '__hash__',\n",
       " '__index__',\n",
       " '__init__',\n",
       " '__init_subclass__',\n",
       " '__int__',\n",
       " '__invert__',\n",
       " '__le__',\n",
       " '__lshift__',\n",
       " '__lt__',\n",
       " '__mod__',\n",
       " '__mul__',\n",
       " '__ne__',\n",
       " '__neg__',\n",
       " '__new__',\n",
       " '__or__',\n",
       " '__pos__',\n",
       " '__pow__',\n",
       " '__radd__',\n",
       " '__rand__',\n",
       " '__rdivmod__',\n",
       " '__reduce__',\n",
       " '__reduce_ex__',\n",
       " '__repr__',\n",
       " '__rfloordiv__',\n",
       " '__rlshift__',\n",
       " '__rmod__',\n",
       " '__rmul__',\n",
       " '__ror__',\n",
       " '__round__',\n",
       " '__rpow__',\n",
       " '__rrshift__',\n",
       " '__rshift__',\n",
       " '__rsub__',\n",
       " '__rtruediv__',\n",
       " '__rxor__',\n",
       " '__setattr__',\n",
       " '__sizeof__',\n",
       " '__str__',\n",
       " '__sub__',\n",
       " '__subclasshook__',\n",
       " '__truediv__',\n",
       " '__trunc__',\n",
       " '__xor__',\n",
       " 'as_integer_ratio',\n",
       " 'bit_count',\n",
       " 'bit_length',\n",
       " 'conjugate',\n",
       " 'denominator',\n",
       " 'from_bytes',\n",
       " 'imag',\n",
       " 'numerator',\n",
       " 'real',\n",
       " 'to_bytes']"
      ]
     },
     "execution_count": 127,
     "metadata": {},
     "output_type": "execute_result"
    }
   ],
   "source": [
    "dir(a)"
   ]
  },
  {
   "cell_type": "code",
   "execution_count": 128,
   "id": "fb3f5c45-724d-47ff-a6d3-b830bd087f5e",
   "metadata": {},
   "outputs": [
    {
     "name": "stdout",
     "output_type": "stream",
     "text": [
      "Help on int object:\n",
      "\n",
      "class int(object)\n",
      " |  int([x]) -> integer\n",
      " |  int(x, base=10) -> integer\n",
      " |  \n",
      " |  Convert a number or string to an integer, or return 0 if no arguments\n",
      " |  are given.  If x is a number, return x.__int__().  For floating point\n",
      " |  numbers, this truncates towards zero.\n",
      " |  \n",
      " |  If x is not a number or if base is given, then x must be a string,\n",
      " |  bytes, or bytearray instance representing an integer literal in the\n",
      " |  given base.  The literal can be preceded by '+' or '-' and be surrounded\n",
      " |  by whitespace.  The base defaults to 10.  Valid bases are 0 and 2-36.\n",
      " |  Base 0 means to interpret the base from the string as an integer literal.\n",
      " |  >>> int('0b100', base=0)\n",
      " |  4\n",
      " |  \n",
      " |  Built-in subclasses:\n",
      " |      bool\n",
      " |  \n",
      " |  Methods defined here:\n",
      " |  \n",
      " |  __abs__(self, /)\n",
      " |      abs(self)\n",
      " |  \n",
      " |  __add__(self, value, /)\n",
      " |      Return self+value.\n",
      " |  \n",
      " |  __and__(self, value, /)\n",
      " |      Return self&value.\n",
      " |  \n",
      " |  __bool__(self, /)\n",
      " |      True if self else False\n",
      " |  \n",
      " |  __ceil__(...)\n",
      " |      Ceiling of an Integral returns itself.\n",
      " |  \n",
      " |  __divmod__(self, value, /)\n",
      " |      Return divmod(self, value).\n",
      " |  \n",
      " |  __eq__(self, value, /)\n",
      " |      Return self==value.\n",
      " |  \n",
      " |  __float__(self, /)\n",
      " |      float(self)\n",
      " |  \n",
      " |  __floor__(...)\n",
      " |      Flooring an Integral returns itself.\n",
      " |  \n",
      " |  __floordiv__(self, value, /)\n",
      " |      Return self//value.\n",
      " |  \n",
      " |  __format__(self, format_spec, /)\n",
      " |      Default object formatter.\n",
      " |  \n",
      " |  __ge__(self, value, /)\n",
      " |      Return self>=value.\n",
      " |  \n",
      " |  __getattribute__(self, name, /)\n",
      " |      Return getattr(self, name).\n",
      " |  \n",
      " |  __getnewargs__(self, /)\n",
      " |  \n",
      " |  __gt__(self, value, /)\n",
      " |      Return self>value.\n",
      " |  \n",
      " |  __hash__(self, /)\n",
      " |      Return hash(self).\n",
      " |  \n",
      " |  __index__(self, /)\n",
      " |      Return self converted to an integer, if self is suitable for use as an index into a list.\n",
      " |  \n",
      " |  __int__(self, /)\n",
      " |      int(self)\n",
      " |  \n",
      " |  __invert__(self, /)\n",
      " |      ~self\n",
      " |  \n",
      " |  __le__(self, value, /)\n",
      " |      Return self<=value.\n",
      " |  \n",
      " |  __lshift__(self, value, /)\n",
      " |      Return self<<value.\n",
      " |  \n",
      " |  __lt__(self, value, /)\n",
      " |      Return self<value.\n",
      " |  \n",
      " |  __mod__(self, value, /)\n",
      " |      Return self%value.\n",
      " |  \n",
      " |  __mul__(self, value, /)\n",
      " |      Return self*value.\n",
      " |  \n",
      " |  __ne__(self, value, /)\n",
      " |      Return self!=value.\n",
      " |  \n",
      " |  __neg__(self, /)\n",
      " |      -self\n",
      " |  \n",
      " |  __or__(self, value, /)\n",
      " |      Return self|value.\n",
      " |  \n",
      " |  __pos__(self, /)\n",
      " |      +self\n",
      " |  \n",
      " |  __pow__(self, value, mod=None, /)\n",
      " |      Return pow(self, value, mod).\n",
      " |  \n",
      " |  __radd__(self, value, /)\n",
      " |      Return value+self.\n",
      " |  \n",
      " |  __rand__(self, value, /)\n",
      " |      Return value&self.\n",
      " |  \n",
      " |  __rdivmod__(self, value, /)\n",
      " |      Return divmod(value, self).\n",
      " |  \n",
      " |  __repr__(self, /)\n",
      " |      Return repr(self).\n",
      " |  \n",
      " |  __rfloordiv__(self, value, /)\n",
      " |      Return value//self.\n",
      " |  \n",
      " |  __rlshift__(self, value, /)\n",
      " |      Return value<<self.\n",
      " |  \n",
      " |  __rmod__(self, value, /)\n",
      " |      Return value%self.\n",
      " |  \n",
      " |  __rmul__(self, value, /)\n",
      " |      Return value*self.\n",
      " |  \n",
      " |  __ror__(self, value, /)\n",
      " |      Return value|self.\n",
      " |  \n",
      " |  __round__(...)\n",
      " |      Rounding an Integral returns itself.\n",
      " |      \n",
      " |      Rounding with an ndigits argument also returns an integer.\n",
      " |  \n",
      " |  __rpow__(self, value, mod=None, /)\n",
      " |      Return pow(value, self, mod).\n",
      " |  \n",
      " |  __rrshift__(self, value, /)\n",
      " |      Return value>>self.\n",
      " |  \n",
      " |  __rshift__(self, value, /)\n",
      " |      Return self>>value.\n",
      " |  \n",
      " |  __rsub__(self, value, /)\n",
      " |      Return value-self.\n",
      " |  \n",
      " |  __rtruediv__(self, value, /)\n",
      " |      Return value/self.\n",
      " |  \n",
      " |  __rxor__(self, value, /)\n",
      " |      Return value^self.\n",
      " |  \n",
      " |  __sizeof__(self, /)\n",
      " |      Returns size in memory, in bytes.\n",
      " |  \n",
      " |  __sub__(self, value, /)\n",
      " |      Return self-value.\n",
      " |  \n",
      " |  __truediv__(self, value, /)\n",
      " |      Return self/value.\n",
      " |  \n",
      " |  __trunc__(...)\n",
      " |      Truncating an Integral returns itself.\n",
      " |  \n",
      " |  __xor__(self, value, /)\n",
      " |      Return self^value.\n",
      " |  \n",
      " |  as_integer_ratio(self, /)\n",
      " |      Return integer ratio.\n",
      " |      \n",
      " |      Return a pair of integers, whose ratio is exactly equal to the original int\n",
      " |      and with a positive denominator.\n",
      " |      \n",
      " |      >>> (10).as_integer_ratio()\n",
      " |      (10, 1)\n",
      " |      >>> (-10).as_integer_ratio()\n",
      " |      (-10, 1)\n",
      " |      >>> (0).as_integer_ratio()\n",
      " |      (0, 1)\n",
      " |  \n",
      " |  bit_count(self, /)\n",
      " |      Number of ones in the binary representation of the absolute value of self.\n",
      " |      \n",
      " |      Also known as the population count.\n",
      " |      \n",
      " |      >>> bin(13)\n",
      " |      '0b1101'\n",
      " |      >>> (13).bit_count()\n",
      " |      3\n",
      " |  \n",
      " |  bit_length(self, /)\n",
      " |      Number of bits necessary to represent self in binary.\n",
      " |      \n",
      " |      >>> bin(37)\n",
      " |      '0b100101'\n",
      " |      >>> (37).bit_length()\n",
      " |      6\n",
      " |  \n",
      " |  conjugate(...)\n",
      " |      Returns self, the complex conjugate of any int.\n",
      " |  \n",
      " |  to_bytes(self, /, length=1, byteorder='big', *, signed=False)\n",
      " |      Return an array of bytes representing an integer.\n",
      " |      \n",
      " |      length\n",
      " |        Length of bytes object to use.  An OverflowError is raised if the\n",
      " |        integer is not representable with the given number of bytes.  Default\n",
      " |        is length 1.\n",
      " |      byteorder\n",
      " |        The byte order used to represent the integer.  If byteorder is 'big',\n",
      " |        the most significant byte is at the beginning of the byte array.  If\n",
      " |        byteorder is 'little', the most significant byte is at the end of the\n",
      " |        byte array.  To request the native byte order of the host system, use\n",
      " |        `sys.byteorder' as the byte order value.  Default is to use 'big'.\n",
      " |      signed\n",
      " |        Determines whether two's complement is used to represent the integer.\n",
      " |        If signed is False and a negative integer is given, an OverflowError\n",
      " |        is raised.\n",
      " |  \n",
      " |  ----------------------------------------------------------------------\n",
      " |  Class methods defined here:\n",
      " |  \n",
      " |  from_bytes(bytes, byteorder='big', *, signed=False) from builtins.type\n",
      " |      Return the integer represented by the given array of bytes.\n",
      " |      \n",
      " |      bytes\n",
      " |        Holds the array of bytes to convert.  The argument must either\n",
      " |        support the buffer protocol or be an iterable object producing bytes.\n",
      " |        Bytes and bytearray are examples of built-in objects that support the\n",
      " |        buffer protocol.\n",
      " |      byteorder\n",
      " |        The byte order used to represent the integer.  If byteorder is 'big',\n",
      " |        the most significant byte is at the beginning of the byte array.  If\n",
      " |        byteorder is 'little', the most significant byte is at the end of the\n",
      " |        byte array.  To request the native byte order of the host system, use\n",
      " |        `sys.byteorder' as the byte order value.  Default is to use 'big'.\n",
      " |      signed\n",
      " |        Indicates whether two's complement is used to represent the integer.\n",
      " |  \n",
      " |  ----------------------------------------------------------------------\n",
      " |  Static methods defined here:\n",
      " |  \n",
      " |  __new__(*args, **kwargs) from builtins.type\n",
      " |      Create and return a new object.  See help(type) for accurate signature.\n",
      " |  \n",
      " |  ----------------------------------------------------------------------\n",
      " |  Data descriptors defined here:\n",
      " |  \n",
      " |  denominator\n",
      " |      the denominator of a rational number in lowest terms\n",
      " |  \n",
      " |  imag\n",
      " |      the imaginary part of a complex number\n",
      " |  \n",
      " |  numerator\n",
      " |      the numerator of a rational number in lowest terms\n",
      " |  \n",
      " |  real\n",
      " |      the real part of a complex number\n",
      "\n"
     ]
    }
   ],
   "source": [
    "help(a)"
   ]
  },
  {
   "cell_type": "markdown",
   "id": "8d6d3454-03e2-4a10-8ffc-272c5a94d068",
   "metadata": {},
   "source": [
    "### Q21. Serialization"
   ]
  },
  {
   "cell_type": "code",
   "execution_count": 129,
   "id": "6d212a76-18eb-4b63-9fbb-3523a757ec60",
   "metadata": {},
   "outputs": [
    {
     "data": {
      "text/plain": [
       "[1, 7, 3, 5, 8]"
      ]
     },
     "execution_count": 129,
     "metadata": {},
     "output_type": "execute_result"
    }
   ],
   "source": [
    "li = [1, 7, 3, 5, 8]\n",
    "li"
   ]
  },
  {
   "cell_type": "code",
   "execution_count": 132,
   "id": "306583fd-3317-458c-9b49-8df2f521db54",
   "metadata": {},
   "outputs": [],
   "source": [
    "# save\n",
    "\n",
    "with open(\"saved_list.pkl\", \"wb\") as file:\n",
    "\tpickle.dump(li, file)"
   ]
  },
  {
   "cell_type": "code",
   "execution_count": 133,
   "id": "1e05dcd0-4e13-483b-9b69-82d27787b635",
   "metadata": {},
   "outputs": [
    {
     "data": {
      "text/plain": [
       "[1, 7, 3, 5, 8]"
      ]
     },
     "execution_count": 133,
     "metadata": {},
     "output_type": "execute_result"
    }
   ],
   "source": [
    "# load\n",
    "\n",
    "saved_list = None\n",
    "\n",
    "with open(\"saved_list.pkl\", \"rb\") as file:\n",
    "\tsaved_list = pickle.load(file)\n",
    "\n",
    "saved_list"
   ]
  },
  {
   "cell_type": "markdown",
   "id": "b82a44b8-aab9-450c-b9a0-6867c8654102",
   "metadata": {},
   "source": [
    "### Q22. issubclass()"
   ]
  },
  {
   "cell_type": "code",
   "execution_count": 134,
   "id": "51a23c26-b814-4a52-967f-c837da0a2f05",
   "metadata": {},
   "outputs": [],
   "source": [
    "class Parent:\n",
    "\tdef __init__(self):\n",
    "\t\tpass"
   ]
  },
  {
   "cell_type": "code",
   "execution_count": 135,
   "id": "7eb0022c-0f42-4cf1-9102-c88a3116990c",
   "metadata": {},
   "outputs": [],
   "source": [
    "class Child(Parent):\n",
    "\tdef __init__(self):\n",
    "\t\tpass"
   ]
  },
  {
   "cell_type": "code",
   "execution_count": 136,
   "id": "bdf71ef1-3145-42bc-8030-6af340481971",
   "metadata": {},
   "outputs": [
    {
     "data": {
      "text/plain": [
       "True"
      ]
     },
     "execution_count": 136,
     "metadata": {},
     "output_type": "execute_result"
    }
   ],
   "source": [
    "issubclass(Child, Parent)"
   ]
  },
  {
   "cell_type": "code",
   "execution_count": 137,
   "id": "042ba41a-71c1-42f8-9320-f81a9ae81e4e",
   "metadata": {},
   "outputs": [
    {
     "data": {
      "text/plain": [
       "False"
      ]
     },
     "execution_count": 137,
     "metadata": {},
     "output_type": "execute_result"
    }
   ],
   "source": [
    "issubclass(Child, Person)"
   ]
  },
  {
   "cell_type": "markdown",
   "id": "5c6a4300-5ffa-4943-bf2a-ab704013438c",
   "metadata": {},
   "source": [
    "### Q23. super()"
   ]
  },
  {
   "cell_type": "code",
   "execution_count": 138,
   "id": "113e7926-f36e-41fe-991b-0c84e99f34ef",
   "metadata": {},
   "outputs": [],
   "source": [
    "class Employee:\n",
    "\tdef __init__(self, name, age, gender):\n",
    "\t\tself.name = name\n",
    "\t\tself.age = age\n",
    "\t\tself.gender = gender"
   ]
  },
  {
   "cell_type": "code",
   "execution_count": 139,
   "id": "5cb77f67-3013-44ca-a94a-7a08925238f1",
   "metadata": {},
   "outputs": [],
   "source": [
    "class Manager(Employee):\n",
    "\tdef __init__(self, name, age, gender, branch, team_count):\n",
    "\t\tsuper().__init__(name, age, gender)\n",
    "\t\tself.branch = branch\n",
    "\t\tself.team_count = team_count"
   ]
  },
  {
   "cell_type": "code",
   "execution_count": 140,
   "id": "0bf177ab-b9a5-493c-9fca-57fa8302889b",
   "metadata": {},
   "outputs": [],
   "source": [
    "michael = Manager(\n",
    "\tname='Michael',\n",
    "\tage=42,\n",
    "\tgender='Male',\n",
    "\tbranch='Dunder Mifflin',\n",
    "\tteam_count=25\n",
    ")"
   ]
  },
  {
   "cell_type": "code",
   "execution_count": 141,
   "id": "dfb2004e-2fc4-4b20-b7c3-389169fe69fb",
   "metadata": {},
   "outputs": [
    {
     "data": {
      "text/plain": [
       "'Michael'"
      ]
     },
     "execution_count": 141,
     "metadata": {},
     "output_type": "execute_result"
    }
   ],
   "source": [
    "michael.name"
   ]
  },
  {
   "cell_type": "code",
   "execution_count": 142,
   "id": "acdd8741-14a8-474a-8613-ed00eeea5a45",
   "metadata": {},
   "outputs": [
    {
     "data": {
      "text/plain": [
       "42"
      ]
     },
     "execution_count": 142,
     "metadata": {},
     "output_type": "execute_result"
    }
   ],
   "source": [
    "michael.age"
   ]
  },
  {
   "cell_type": "code",
   "execution_count": 143,
   "id": "34f03056-eb49-4d44-b466-bd9bb034cb4a",
   "metadata": {},
   "outputs": [
    {
     "data": {
      "text/plain": [
       "'Male'"
      ]
     },
     "execution_count": 143,
     "metadata": {},
     "output_type": "execute_result"
    }
   ],
   "source": [
    "michael.gender"
   ]
  },
  {
   "cell_type": "code",
   "execution_count": 144,
   "id": "b1c19b75-8928-4cb1-8afc-3def1ebb2d8a",
   "metadata": {},
   "outputs": [
    {
     "data": {
      "text/plain": [
       "'Dunder Mifflin'"
      ]
     },
     "execution_count": 144,
     "metadata": {},
     "output_type": "execute_result"
    }
   ],
   "source": [
    "michael.branch"
   ]
  },
  {
   "cell_type": "code",
   "execution_count": 145,
   "id": "11a059d6-3143-4163-8f8b-eec11f547c4d",
   "metadata": {},
   "outputs": [
    {
     "data": {
      "text/plain": [
       "25"
      ]
     },
     "execution_count": 145,
     "metadata": {},
     "output_type": "execute_result"
    }
   ],
   "source": [
    "michael.team_count"
   ]
  },
  {
   "cell_type": "markdown",
   "id": "545f91e8-1827-4294-a917-66fd0c07274b",
   "metadata": {},
   "source": [
    "- We accessed the parent class constructor to initialize few attributes of child class\n",
    "- We're able to access all the attributes despite not initializing all of them through the Child class"
   ]
  },
  {
   "cell_type": "markdown",
   "id": "4c1a35e3-9c52-4a43-ac27-058a183f81f8",
   "metadata": {},
   "source": [
    "### Q25. Class and Static Methods"
   ]
  },
  {
   "cell_type": "code",
   "execution_count": 146,
   "id": "2503fb6d-ab30-40c7-9253-22fd189b7d88",
   "metadata": {},
   "outputs": [],
   "source": [
    "class Employee:\n",
    "\tbase_salary = 5_00_000\n",
    "\n",
    "\tdef __init__(self, name, age, gender, salary):\n",
    "\t\tself.name = name\n",
    "\t\tself.age = age\n",
    "\t\tself.gender = gender\n",
    "\t\tself.salary = salary\n",
    "\n",
    "\n",
    "\t@classmethod\n",
    "\tdef create_employee(cls, name, age, gender):\n",
    "\t\treturn cls(name, age, gender, cls.base_salary)\n",
    "\n",
    "\n",
    "\t@staticmethod\n",
    "\tdef valid_age(age):\n",
    "\t\treturn age >= 18"
   ]
  },
  {
   "cell_type": "markdown",
   "id": "d6863d22-0fa8-4c58-99f9-cf2ccea94e58",
   "metadata": {},
   "source": [
    "- If salary of employee is known, we're creating an instance using regular constructor `__init__`"
   ]
  },
  {
   "cell_type": "code",
   "execution_count": 147,
   "id": "63debb48-8b5e-456a-99a4-e719abf1802f",
   "metadata": {},
   "outputs": [],
   "source": [
    "josh = Employee('Josh', 25, 'Male', 7_00_000)"
   ]
  },
  {
   "cell_type": "code",
   "execution_count": 148,
   "id": "5485a696-3573-4c9b-8073-c384d6465595",
   "metadata": {},
   "outputs": [
    {
     "data": {
      "text/plain": [
       "700000"
      ]
     },
     "execution_count": 148,
     "metadata": {},
     "output_type": "execute_result"
    }
   ],
   "source": [
    "josh.salary"
   ]
  },
  {
   "cell_type": "markdown",
   "id": "0e027ee0-10be-4fec-8a71-065a99db2541",
   "metadata": {},
   "source": [
    "- If salary isn't known, we're using the `class method` to create an instance of the class\n",
    "- Here, the class method is used as an alternative constructor\n",
    "- The unknown salary defaults to the class attribute `base_salary`"
   ]
  },
  {
   "cell_type": "code",
   "execution_count": 149,
   "id": "bd12e223-2392-4ffc-956d-a1c73788fa9b",
   "metadata": {},
   "outputs": [],
   "source": [
    "jack = Employee.create_employee('Jack', 27, 'Male')"
   ]
  },
  {
   "cell_type": "code",
   "execution_count": 150,
   "id": "2c686621-ae8b-43cb-bdeb-67d28b7cdfd3",
   "metadata": {},
   "outputs": [
    {
     "data": {
      "text/plain": [
       "500000"
      ]
     },
     "execution_count": 150,
     "metadata": {},
     "output_type": "execute_result"
    }
   ],
   "source": [
    "jack.salary"
   ]
  },
  {
   "cell_type": "markdown",
   "id": "5d361933-a782-4cfb-8fe1-4f282bf73146",
   "metadata": {},
   "source": [
    "- The `static method` performs a useful operation to validate if an age is valid or not to work\n",
    "- It doesn't work with any class/instance attributes"
   ]
  },
  {
   "cell_type": "code",
   "execution_count": 151,
   "id": "c8967e84-78ef-4ee3-93d3-0d0d85493723",
   "metadata": {},
   "outputs": [
    {
     "data": {
      "text/plain": [
       "False"
      ]
     },
     "execution_count": 151,
     "metadata": {},
     "output_type": "execute_result"
    }
   ],
   "source": [
    "Employee.valid_age(15)"
   ]
  }
 ],
 "metadata": {
  "kernelspec": {
   "display_name": "demo",
   "language": "python",
   "name": "demo"
  },
  "language_info": {
   "codemirror_mode": {
    "name": "ipython",
    "version": 3
   },
   "file_extension": ".py",
   "mimetype": "text/x-python",
   "name": "python",
   "nbconvert_exporter": "python",
   "pygments_lexer": "ipython3",
   "version": "3.11.1"
  }
 },
 "nbformat": 4,
 "nbformat_minor": 5
}
